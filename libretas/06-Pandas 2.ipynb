{
 "cells": [
  {
   "cell_type": "code",
   "execution_count": null,
   "id": "9141ae51-697a-4ac7-a372-5d232cd26532",
   "metadata": {},
   "outputs": [],
   "source": [
    "import pandas as pd\n",
    "import numpy as np"
   ]
  },
  {
   "cell_type": "markdown",
   "id": "851fd4f4-5e6e-423d-930a-6186033788ac",
   "metadata": {},
   "source": [
    "# Índices jerárquicos"
   ]
  },
  {
   "cell_type": "code",
   "execution_count": null,
   "id": "3dcfe684-d326-4241-8fa5-61f629247bb1",
   "metadata": {},
   "outputs": [],
   "source": [
    "index = [\n",
    "    ('California', 2000), \n",
    "    ('California', 2010),\n",
    "    ('New York', 2000),\n",
    "    ('New York', 2010),\n",
    "    ('Texas', 2000), \n",
    "    ('Texas', 2010),\n",
    "]\n",
    "\n",
    "populations = [\n",
    "    33871648, \n",
    "    37253956,\n",
    "    18976457,\n",
    "    19378102,\n",
    "    20851820,\n",
    "    25145561,\n",
    "]\n",
    "\n",
    "pop = pd.Series(populations, index=index)\n",
    "pop"
   ]
  },
  {
   "cell_type": "code",
   "execution_count": null,
   "id": "aeb672b3-71d0-48fd-a352-35f6792acd37",
   "metadata": {},
   "outputs": [],
   "source": [
    "pop[('California', 2010):('Texas', 2000)]"
   ]
  },
  {
   "cell_type": "code",
   "execution_count": null,
   "id": "577483ba-8b70-4144-9101-75e0051c9135",
   "metadata": {},
   "outputs": [],
   "source": [
    "pop[[i for i in pop.index if i[1] == 2010]]"
   ]
  },
  {
   "cell_type": "markdown",
   "id": "283a9fe7-9696-4be9-921f-8ea5d4a37050",
   "metadata": {},
   "source": [
    "---"
   ]
  },
  {
   "cell_type": "code",
   "execution_count": null,
   "id": "f0b430d9-a10e-4827-8849-ab9bebc95ba7",
   "metadata": {},
   "outputs": [],
   "source": [
    "index = pd.MultiIndex.from_tuples(index)\n",
    "index"
   ]
  },
  {
   "cell_type": "code",
   "execution_count": null,
   "id": "18c879c4-bea8-4eb9-ba31-020c5a598164",
   "metadata": {},
   "outputs": [],
   "source": [
    "pop = pop.reindex(index)\n",
    "pop"
   ]
  },
  {
   "cell_type": "code",
   "execution_count": null,
   "id": "10ccd7f4-433d-4be5-8536-93a149bf9086",
   "metadata": {},
   "outputs": [],
   "source": [
    "pop[:, 2010]"
   ]
  },
  {
   "cell_type": "markdown",
   "id": "1b7ab5d5-d6b8-44fb-9aed-364f8b10723b",
   "metadata": {},
   "source": [
    "---"
   ]
  },
  {
   "cell_type": "code",
   "execution_count": null,
   "id": "7e81b8f1-17f1-4e9a-819d-3b4735bf2ff1",
   "metadata": {},
   "outputs": [],
   "source": [
    "pop"
   ]
  },
  {
   "cell_type": "code",
   "execution_count": null,
   "id": "0f9c0389-3432-41f4-b459-f9289c9908c5",
   "metadata": {},
   "outputs": [],
   "source": [
    "pop_df = pop.unstack()\n",
    "pop_df"
   ]
  },
  {
   "cell_type": "code",
   "execution_count": null,
   "id": "96c4e914-1df3-4733-967b-c8f60ebf0718",
   "metadata": {},
   "outputs": [],
   "source": [
    "pop_df.stack()"
   ]
  },
  {
   "cell_type": "markdown",
   "id": "46241b88-7365-4c29-8fce-02fb60a870fb",
   "metadata": {},
   "source": [
    "# Prueba"
   ]
  },
  {
   "cell_type": "code",
   "execution_count": null,
   "id": "2eed8b8f-89e7-4091-998c-63cc70a3c5e3",
   "metadata": {},
   "outputs": [],
   "source": [
    "df = pd.DataFrame({\n",
    "    'A': [1, 2, 3, 4, 5, 6],\n",
    "    'B': [5, 1, 4, 2, 5, 9],\n",
    "    'C': [6, 3, 7, 3, 9, 4],\n",
    "    'D': [0, 7, 3, 7, 1, 7],\n",
    "})\n",
    "df"
   ]
  },
  {
   "cell_type": "code",
   "execution_count": null,
   "id": "83a6ba2f-844b-40f4-a32c-82e0c7bdb483",
   "metadata": {},
   "outputs": [],
   "source": [
    "df.set_index(['D', 'A']).drop('C', axis=1)['B']"
   ]
  },
  {
   "cell_type": "markdown",
   "id": "5935f74f-2939-40cd-8b8d-feeb754b796c",
   "metadata": {},
   "source": [
    "---"
   ]
  },
  {
   "cell_type": "code",
   "execution_count": null,
   "id": "aaad686b-fb3b-4722-b330-45bd52ad2dea",
   "metadata": {},
   "outputs": [],
   "source": [
    "pop_df = pd.DataFrame({\n",
    "    'total': pop,\n",
    "    'under18': [\n",
    "        9267089,\n",
    "        9284094,\n",
    "        4687374,\n",
    "        4318033,\n",
    "        5906301,\n",
    "        6879014,\n",
    "    ],\n",
    "})\n",
    "pop_df"
   ]
  },
  {
   "cell_type": "code",
   "execution_count": null,
   "id": "8d08da54-62e1-4d3d-8d1b-488023b482e1",
   "metadata": {},
   "outputs": [],
   "source": [
    "f_u18 = pop_df['under18'] / pop_df['total']"
   ]
  },
  {
   "cell_type": "code",
   "execution_count": null,
   "id": "7caa8743-ed4c-409a-b776-5f423263a8cc",
   "metadata": {},
   "outputs": [],
   "source": [
    "f_u18"
   ]
  },
  {
   "cell_type": "code",
   "execution_count": null,
   "id": "11b84cb5-0871-494c-94ca-ec4a220f2958",
   "metadata": {},
   "outputs": [],
   "source": [
    "f_u18.unstack()"
   ]
  },
  {
   "cell_type": "markdown",
   "id": "7ebd37e1-59fb-4910-af85-a2ed1a180f22",
   "metadata": {},
   "source": [
    "---"
   ]
  },
  {
   "cell_type": "code",
   "execution_count": null,
   "id": "9601d976-b096-40a6-b2f6-6aeed7e21ba6",
   "metadata": {},
   "outputs": [],
   "source": [
    "df = pd.DataFrame(np.random.rand(4, 2),\n",
    "                  index=[['a', 'a', 'b', 'b'], [1, 2, 1, 2]],\n",
    "                  columns=['data1', 'data2'])\n",
    "df"
   ]
  },
  {
   "cell_type": "code",
   "execution_count": null,
   "id": "862eff22-93b9-45d4-8455-289f1feb3ef3",
   "metadata": {},
   "outputs": [],
   "source": [
    "data = {('California', 2000): 33871648,\n",
    "        ('California', 2010): 37253956,\n",
    "        ('Texas', 2000): 20851820,\n",
    "        ('Texas', 2010): 25145561,\n",
    "        ('New York', 2000): 18976457,\n",
    "        ('New York', 2010): 19378102}\n",
    "\n",
    "pd.Series(data)"
   ]
  },
  {
   "cell_type": "code",
   "execution_count": null,
   "id": "eff5265a-4bff-4004-8af7-d99a91680b02",
   "metadata": {},
   "outputs": [],
   "source": [
    "pd.MultiIndex.from_arrays([\n",
    "    ['a', 'a', 'b', 'b'],\n",
    "    [1, 2, 1, 2],\n",
    "])"
   ]
  },
  {
   "cell_type": "code",
   "execution_count": null,
   "id": "c763f4c1-9792-41a6-af30-d23490a58a27",
   "metadata": {},
   "outputs": [],
   "source": [
    "pd.MultiIndex.from_tuples([\n",
    "    ('a', 1),\n",
    "    ('a', 2),\n",
    "    ('b', 1),\n",
    "    ('b', 2),\n",
    "])"
   ]
  },
  {
   "cell_type": "code",
   "execution_count": null,
   "id": "a849b834-3ed0-4ce2-ba1f-4b84dc7de48b",
   "metadata": {},
   "outputs": [],
   "source": [
    "pd.MultiIndex.from_product([\n",
    "    ['a', 'b'],\n",
    "    [1, 2],\n",
    "])"
   ]
  },
  {
   "cell_type": "markdown",
   "id": "f26b51c2-56cf-4a90-ad8c-e5253b8b7a37",
   "metadata": {},
   "source": [
    "---"
   ]
  },
  {
   "cell_type": "code",
   "execution_count": null,
   "id": "8685af35-80a2-4f2d-84ea-f45709607090",
   "metadata": {},
   "outputs": [],
   "source": [
    "pop"
   ]
  },
  {
   "cell_type": "code",
   "execution_count": null,
   "id": "c922ba10-412a-46a4-b4e4-4543d38ded80",
   "metadata": {},
   "outputs": [],
   "source": [
    "pop.index.names = ['state', 'year']\n",
    "pop"
   ]
  },
  {
   "cell_type": "markdown",
   "id": "5f4ba5f4-0ab1-4ae2-8d33-a620207bbb38",
   "metadata": {},
   "source": [
    "---"
   ]
  },
  {
   "cell_type": "code",
   "execution_count": null,
   "id": "c34313ae-8d0e-4a69-a01d-a830c09b45f9",
   "metadata": {},
   "outputs": [],
   "source": [
    "index = pd.MultiIndex.from_product(\n",
    "    [[2013, 2014], [1, 2]],\n",
    "    names=['year', 'visit']\n",
    ")\n",
    "\n",
    "columns = pd.MultiIndex.from_product(\n",
    "    [['Bob', 'Guido', 'Sue'], ['HR', 'Temp']],\n",
    "    names=['subject', 'type']\n",
    ")"
   ]
  },
  {
   "cell_type": "code",
   "execution_count": null,
   "id": "b5231212-d639-4539-8b2f-008ec922699d",
   "metadata": {},
   "outputs": [],
   "source": [
    "data = np.round(np.random.randn(4, 6), 1)"
   ]
  },
  {
   "cell_type": "code",
   "execution_count": null,
   "id": "8f4fd528-9f35-4924-99c8-4cecd57dd9cd",
   "metadata": {},
   "outputs": [],
   "source": [
    "data"
   ]
  },
  {
   "cell_type": "code",
   "execution_count": null,
   "id": "f811ba44-3a32-4298-aa27-b1b039351895",
   "metadata": {},
   "outputs": [],
   "source": [
    "data[:, ::2]"
   ]
  },
  {
   "cell_type": "code",
   "execution_count": null,
   "id": "20e0be54-5ed7-47ee-ac41-cb3bbe00fb7b",
   "metadata": {},
   "outputs": [],
   "source": [
    "data[:, ::2] *= 10"
   ]
  },
  {
   "cell_type": "code",
   "execution_count": null,
   "id": "6db683ea-f9e0-436e-844c-2333abe19972",
   "metadata": {},
   "outputs": [],
   "source": [
    "data"
   ]
  },
  {
   "cell_type": "code",
   "execution_count": null,
   "id": "a7ab6637-3251-4a41-ad1b-80c0b847ed37",
   "metadata": {},
   "outputs": [],
   "source": [
    "data += 37"
   ]
  },
  {
   "cell_type": "code",
   "execution_count": null,
   "id": "9550367d-2309-4ced-b310-de7c15013323",
   "metadata": {},
   "outputs": [],
   "source": [
    "data"
   ]
  },
  {
   "cell_type": "code",
   "execution_count": null,
   "id": "09c5105d-f69a-439a-844b-206e4154adba",
   "metadata": {},
   "outputs": [],
   "source": [
    "health_data = pd.DataFrame(data, index=index, columns=columns)\n",
    "health_data"
   ]
  },
  {
   "cell_type": "code",
   "execution_count": null,
   "id": "e3148d86-ed54-440e-b639-3cdd1c847413",
   "metadata": {},
   "outputs": [],
   "source": [
    "health_data['Guido']"
   ]
  },
  {
   "cell_type": "markdown",
   "id": "22c7b4a5-f04a-4865-ab6e-f37a3b39a160",
   "metadata": {},
   "source": [
    "---"
   ]
  },
  {
   "cell_type": "code",
   "execution_count": null,
   "id": "fc899349-613b-49d5-8151-f37df1fd3590",
   "metadata": {},
   "outputs": [],
   "source": [
    "pop"
   ]
  },
  {
   "cell_type": "code",
   "execution_count": null,
   "id": "4e6470c6-015b-49bf-a2b9-258cbb64216a",
   "metadata": {},
   "outputs": [],
   "source": [
    "pop['California', 2000]"
   ]
  },
  {
   "cell_type": "code",
   "execution_count": null,
   "id": "a3ee37ab-a3b5-4edd-8cd9-29a0180793d2",
   "metadata": {},
   "outputs": [],
   "source": [
    "pop['California']"
   ]
  },
  {
   "cell_type": "code",
   "execution_count": null,
   "id": "acfa8d36-f056-49b9-a049-5bb1343feeb2",
   "metadata": {},
   "outputs": [],
   "source": [
    "pop.loc['California':'New York']"
   ]
  },
  {
   "cell_type": "code",
   "execution_count": null,
   "id": "20cd01db-99aa-48cb-83a5-95fe82e64b5f",
   "metadata": {},
   "outputs": [],
   "source": [
    "pop[:, 2000]"
   ]
  },
  {
   "cell_type": "code",
   "execution_count": null,
   "id": "6b029b4c-e9f7-42f9-953e-8d6933bc378a",
   "metadata": {},
   "outputs": [],
   "source": [
    "pop[pop > 22000000]"
   ]
  },
  {
   "cell_type": "code",
   "execution_count": null,
   "id": "a88c8e0f-a390-44e5-b3a8-ff44a2a8105d",
   "metadata": {},
   "outputs": [],
   "source": [
    "pop[['California','Texas']]"
   ]
  },
  {
   "cell_type": "markdown",
   "id": "92c45363-ebf9-469f-bba0-3514a58fc64e",
   "metadata": {},
   "source": [
    "---"
   ]
  },
  {
   "cell_type": "code",
   "execution_count": null,
   "id": "61c73193-14e2-4d96-b338-d9161589c425",
   "metadata": {},
   "outputs": [],
   "source": [
    "health_data"
   ]
  },
  {
   "cell_type": "code",
   "execution_count": null,
   "id": "1a374b35-3ade-40f1-868d-4d454f2f3dd4",
   "metadata": {},
   "outputs": [],
   "source": [
    "health_data['Guido', 'HR']"
   ]
  },
  {
   "cell_type": "code",
   "execution_count": null,
   "id": "97e3a969-70d1-4ea8-a035-4f60eebe1af7",
   "metadata": {},
   "outputs": [],
   "source": [
    "health_data.iloc[:2, :2]"
   ]
  },
  {
   "cell_type": "code",
   "execution_count": null,
   "id": "f7d6ff51-cd4f-45a8-bfd3-f44fd53f8c6e",
   "metadata": {},
   "outputs": [],
   "source": [
    "health_data.loc[:, ('Bob', 'HR')]"
   ]
  },
  {
   "cell_type": "code",
   "execution_count": null,
   "id": "ef094320-0555-4cac-9d73-c6743fc96a7b",
   "metadata": {},
   "outputs": [],
   "source": [
    "health_data['Bob', 'HR']"
   ]
  },
  {
   "cell_type": "markdown",
   "id": "342f84c2-0ad2-4bc2-8008-a692c83ac0ed",
   "metadata": {},
   "source": [
    "---"
   ]
  },
  {
   "cell_type": "code",
   "execution_count": null,
   "id": "736c93f7-72e9-48e3-a6ae-553fd657a1c7",
   "metadata": {},
   "outputs": [],
   "source": [
    "health_data"
   ]
  },
  {
   "cell_type": "code",
   "execution_count": null,
   "id": "91113c0c-431b-498e-b276-e5801441b5d0",
   "metadata": {},
   "outputs": [],
   "source": [
    "data_mean = health_data.groupby('year').mean()\n",
    "data_mean"
   ]
  },
  {
   "cell_type": "code",
   "execution_count": null,
   "id": "d0260a46-6398-449b-b039-2df79107bad1",
   "metadata": {},
   "outputs": [],
   "source": [
    "data_mean.groupby('type', axis=1).mean()"
   ]
  },
  {
   "cell_type": "code",
   "execution_count": null,
   "id": "5c52f0dc-c2b8-4f0d-849f-435dcffb4736",
   "metadata": {},
   "outputs": [],
   "source": [
    "data_mean.T.groupby('type').mean()"
   ]
  },
  {
   "cell_type": "markdown",
   "id": "4598d051-8b6b-4415-9706-bc1271d9648a",
   "metadata": {},
   "source": [
    "# Combinando datos con `concat`"
   ]
  },
  {
   "cell_type": "code",
   "execution_count": null,
   "id": "3def497a-e869-4347-b5b2-8a8312712310",
   "metadata": {},
   "outputs": [],
   "source": [
    "x = [1, 2, 3]\n",
    "y = [4, 5, 6]\n",
    "z = [7, 8, 9]"
   ]
  },
  {
   "cell_type": "code",
   "execution_count": null,
   "id": "f3cee146-06fe-456b-875a-8056a02f273c",
   "metadata": {},
   "outputs": [],
   "source": [
    "np.concatenate([x, y, z])"
   ]
  },
  {
   "cell_type": "code",
   "execution_count": null,
   "id": "231470dd-4bef-4cd3-aef4-4f5e83faf9c0",
   "metadata": {},
   "outputs": [],
   "source": [
    "x = [[1, 2],\n",
    "     [3, 4]]\n",
    "\n",
    "np.concatenate([x, x], axis=1)"
   ]
  },
  {
   "cell_type": "markdown",
   "id": "d8d9582b-0f60-4e27-b6eb-f8e3615caa14",
   "metadata": {},
   "source": [
    "---"
   ]
  },
  {
   "cell_type": "code",
   "execution_count": null,
   "id": "30d41e48-711c-43f5-8fe3-f9d69c988b22",
   "metadata": {},
   "outputs": [],
   "source": [
    "ser1 = pd.Series(['A', 'B', 'C'], index=[1, 2, 3])\n",
    "ser2 = pd.Series(['D', 'E', 'F'], index=[4, 5, 6])\n",
    "pd.concat([ser1, ser2])"
   ]
  },
  {
   "cell_type": "markdown",
   "id": "11bd25b7-b03b-4932-afe5-bf43a0741942",
   "metadata": {},
   "source": [
    "---"
   ]
  },
  {
   "cell_type": "code",
   "execution_count": null,
   "id": "6853ad0e-6690-4612-8e14-9a34468e5492",
   "metadata": {},
   "outputs": [],
   "source": [
    "def make_df(cols, ind):\n",
    "    \"\"\"Quickly make a DataFrame\"\"\"\n",
    "    data = {c: [str(c) + str(i) for i in ind]\n",
    "    for c in cols}\n",
    "    return pd.DataFrame(data, ind)"
   ]
  },
  {
   "cell_type": "code",
   "execution_count": null,
   "id": "4fdbf289-eb2f-4d57-9136-425d56960ca9",
   "metadata": {},
   "outputs": [],
   "source": [
    "make_df('ABC', range(3))"
   ]
  },
  {
   "cell_type": "code",
   "execution_count": null,
   "id": "7e612e3d-819a-4ad6-8e9f-b21c71015d69",
   "metadata": {},
   "outputs": [],
   "source": [
    "df1 = make_df('AB', [1, 2])\n",
    "df2 = make_df('AB', [3, 4])"
   ]
  },
  {
   "cell_type": "code",
   "execution_count": null,
   "id": "45669ecf-6d35-4821-8d7d-fd8b52eb5d61",
   "metadata": {},
   "outputs": [],
   "source": [
    "df1"
   ]
  },
  {
   "cell_type": "code",
   "execution_count": null,
   "id": "b92ec4a8-03da-4116-90fd-d640f3b84e80",
   "metadata": {},
   "outputs": [],
   "source": [
    "df2"
   ]
  },
  {
   "cell_type": "code",
   "execution_count": null,
   "id": "c676b051-1a1b-4b41-aad0-1f4f1edb43a1",
   "metadata": {},
   "outputs": [],
   "source": [
    "pd.concat([df1, df2])"
   ]
  },
  {
   "cell_type": "code",
   "execution_count": null,
   "id": "202ff333-4d0e-42dc-8913-8b4ed6f753f0",
   "metadata": {},
   "outputs": [],
   "source": [
    "pd.concat([df1, df2], axis=1)"
   ]
  },
  {
   "cell_type": "markdown",
   "id": "f4ab26d8-4e2d-49a2-a9f4-6d56eb2c4a10",
   "metadata": {},
   "source": [
    "---"
   ]
  },
  {
   "cell_type": "code",
   "execution_count": null,
   "id": "69f778ed-333b-4a7e-85d5-9eb126a5720a",
   "metadata": {},
   "outputs": [],
   "source": [
    "df3 = make_df('AB', [0, 1])\n",
    "df4 = make_df('CD', [0, 1])"
   ]
  },
  {
   "cell_type": "code",
   "execution_count": null,
   "id": "16127624-6106-484e-a53c-060779ea90c7",
   "metadata": {},
   "outputs": [],
   "source": [
    "df3"
   ]
  },
  {
   "cell_type": "code",
   "execution_count": null,
   "id": "67a2f5b4-3954-4fa6-8119-5f059356209d",
   "metadata": {},
   "outputs": [],
   "source": [
    "df4"
   ]
  },
  {
   "cell_type": "code",
   "execution_count": null,
   "id": "7d27535f-cc96-403f-8638-c6e9bea4dd41",
   "metadata": {},
   "outputs": [],
   "source": [
    "pd.concat([df3, df4], axis=1)"
   ]
  },
  {
   "cell_type": "code",
   "execution_count": null,
   "id": "6ab25d48-6a2f-457e-ba1d-677622273419",
   "metadata": {},
   "outputs": [],
   "source": [
    "pd.concat([df3, df4])"
   ]
  },
  {
   "cell_type": "markdown",
   "id": "115e85b3-24b9-423e-b1b2-3aeb2b7d9719",
   "metadata": {},
   "source": [
    "---"
   ]
  },
  {
   "cell_type": "code",
   "execution_count": null,
   "id": "d9a799b8-7960-4230-983f-ee42856bb663",
   "metadata": {},
   "outputs": [],
   "source": [
    "x = make_df('AB', [0, 1])\n",
    "y = make_df('AB', [2, 3])"
   ]
  },
  {
   "cell_type": "code",
   "execution_count": null,
   "id": "bb30fa15-1c2d-49a4-9232-ba67be7b8946",
   "metadata": {},
   "outputs": [],
   "source": [
    "x"
   ]
  },
  {
   "cell_type": "code",
   "execution_count": null,
   "id": "14d6a52d-a820-4ef0-8bce-bc86caf0009b",
   "metadata": {},
   "outputs": [],
   "source": [
    "y"
   ]
  },
  {
   "cell_type": "code",
   "execution_count": null,
   "id": "28b61825-2ba1-4024-9b6d-0660f035912b",
   "metadata": {},
   "outputs": [],
   "source": [
    "y.index = x.index"
   ]
  },
  {
   "cell_type": "code",
   "execution_count": null,
   "id": "85928ad2-1db5-49a0-b0e6-c05d9798724c",
   "metadata": {},
   "outputs": [],
   "source": [
    "pd.concat([x, y])"
   ]
  },
  {
   "cell_type": "code",
   "execution_count": null,
   "id": "c2db6ab6-280b-4511-ab35-9ce2d3266f07",
   "metadata": {},
   "outputs": [],
   "source": [
    "pd.concat([x, y], ignore_index=True)"
   ]
  },
  {
   "cell_type": "code",
   "execution_count": null,
   "id": "e75ce85a-a70b-415a-93c4-edcbd0a0ebf6",
   "metadata": {},
   "outputs": [],
   "source": [
    "pd.concat([x, y], verify_integrity=True)"
   ]
  },
  {
   "cell_type": "markdown",
   "id": "e218eb02-f550-45fa-ae03-4fa54344a09a",
   "metadata": {},
   "source": [
    "---"
   ]
  },
  {
   "cell_type": "code",
   "execution_count": null,
   "id": "1b8553f4-decd-431b-93cb-914735dd44a9",
   "metadata": {},
   "outputs": [],
   "source": [
    "df5 = make_df('ABC', [1, 2])\n",
    "df6 = make_df('BCD', [3, 4])"
   ]
  },
  {
   "cell_type": "code",
   "execution_count": null,
   "id": "7a2aa78d-3f6b-4870-8ac0-524487bd993b",
   "metadata": {},
   "outputs": [],
   "source": [
    "df5"
   ]
  },
  {
   "cell_type": "code",
   "execution_count": null,
   "id": "0c03c606-ad83-4986-8871-10621bc208fe",
   "metadata": {},
   "outputs": [],
   "source": [
    "df6"
   ]
  },
  {
   "cell_type": "code",
   "execution_count": null,
   "id": "04f646c4-ee02-498f-b167-2177e1b321ec",
   "metadata": {},
   "outputs": [],
   "source": [
    "pd.concat([df5, df6])"
   ]
  },
  {
   "cell_type": "code",
   "execution_count": null,
   "id": "d314e6f8-48fb-435c-a51c-f01d291ed631",
   "metadata": {},
   "outputs": [],
   "source": [
    "pd.concat([df5, df6], join='outer')"
   ]
  },
  {
   "cell_type": "code",
   "execution_count": null,
   "id": "d741809a-1459-4004-8df0-d7282d148c8f",
   "metadata": {},
   "outputs": [],
   "source": [
    "pd.concat([df5, df6], join='inner')"
   ]
  },
  {
   "cell_type": "markdown",
   "id": "36ca0765-64e4-4672-8829-0a59b6f2cac3",
   "metadata": {},
   "source": [
    "# Combinando datos con `merge` y `join`"
   ]
  },
  {
   "cell_type": "code",
   "execution_count": null,
   "id": "0dea0afe-21f8-495b-b4b6-0b730f3bbd70",
   "metadata": {},
   "outputs": [],
   "source": [
    "df1 = pd.DataFrame({\n",
    "    'employee': ['Bob', 'Jake', 'Lisa', 'Sue'],\n",
    "    'group': ['Accounting', 'Engineering', 'Engineering', 'HR'],\n",
    "})\n",
    "\n",
    "df2 = pd.DataFrame({\n",
    "    'employee': ['Lisa', 'Bob', 'Jake', 'Sue'],\n",
    "    'hire_date': [2004, 2008, 2012, 2014],\n",
    "})"
   ]
  },
  {
   "cell_type": "code",
   "execution_count": null,
   "id": "b4ed77ce-19b8-4a70-b69b-5a1a49b502f9",
   "metadata": {},
   "outputs": [],
   "source": [
    "df1"
   ]
  },
  {
   "cell_type": "code",
   "execution_count": null,
   "id": "a67547f4-0eba-4e16-bb5f-0540a6963b2a",
   "metadata": {},
   "outputs": [],
   "source": [
    "df2"
   ]
  },
  {
   "cell_type": "code",
   "execution_count": null,
   "id": "f944f0e2-3e29-4075-9ac8-577a9628f3a0",
   "metadata": {},
   "outputs": [],
   "source": [
    "df3 = pd.merge(df1, df2)\n",
    "df3"
   ]
  },
  {
   "cell_type": "code",
   "execution_count": null,
   "id": "3dfacb12-f27e-4d19-814d-4bca54f7400c",
   "metadata": {},
   "outputs": [],
   "source": [
    "pd.merge(df1, df2, on='employee')"
   ]
  },
  {
   "cell_type": "code",
   "execution_count": null,
   "id": "0cae9565-d3dc-4a78-91e1-a3dfe3a39894",
   "metadata": {},
   "outputs": [],
   "source": [
    "df4 = pd.DataFrame({\n",
    "    'group': ['Accounting', 'Engineering', 'HR'],\n",
    "    'supervisor': ['Carly', 'Guido', 'Steve'],\n",
    "})\n",
    "df4"
   ]
  },
  {
   "cell_type": "code",
   "execution_count": null,
   "id": "c73be9ff-b02f-4043-8bbd-f085dc1ec164",
   "metadata": {},
   "outputs": [],
   "source": [
    "pd.merge(df3, df4)"
   ]
  },
  {
   "cell_type": "markdown",
   "id": "0fdab460-ae13-4012-8b64-145026d1f32a",
   "metadata": {},
   "source": [
    "---"
   ]
  },
  {
   "cell_type": "code",
   "execution_count": null,
   "id": "edc7f9d6-cb4d-4cde-a669-f650991774b5",
   "metadata": {},
   "outputs": [],
   "source": [
    "df5 = pd.DataFrame({\n",
    "    'group': ['Accounting', 'Accounting',\n",
    "              'Engineering', 'Engineering',\n",
    "              'HR', 'HR'],\n",
    "    'skills': ['math', 'spreadsheets',\n",
    "               'coding', 'linux',\n",
    "               'spreadsheets', 'organization'],\n",
    "})\n",
    "df5"
   ]
  },
  {
   "cell_type": "code",
   "execution_count": null,
   "id": "07d1fabe-98ee-4472-ac4c-da6b30ff8f29",
   "metadata": {},
   "outputs": [],
   "source": [
    "df1"
   ]
  },
  {
   "cell_type": "code",
   "execution_count": null,
   "id": "cdef8e17-07e7-47bf-a3b7-73b349a6d890",
   "metadata": {},
   "outputs": [],
   "source": [
    "pd.merge(df1, df5)"
   ]
  },
  {
   "cell_type": "markdown",
   "id": "7e2ac791-f86a-446a-a5d1-6c7a7f196ccb",
   "metadata": {},
   "source": [
    "---"
   ]
  },
  {
   "cell_type": "code",
   "execution_count": null,
   "id": "5b05a75f-3849-4472-9149-04c4171789b8",
   "metadata": {},
   "outputs": [],
   "source": [
    "df1"
   ]
  },
  {
   "cell_type": "code",
   "execution_count": null,
   "id": "380b78fe-1032-4743-b18c-8f951b07b0c7",
   "metadata": {},
   "outputs": [],
   "source": [
    "df2"
   ]
  },
  {
   "cell_type": "code",
   "execution_count": null,
   "id": "bf84f2ef-5feb-42e7-ba4a-4f81719c2d1e",
   "metadata": {},
   "outputs": [],
   "source": [
    "pd.merge(df1, df2, on='employee')"
   ]
  },
  {
   "cell_type": "code",
   "execution_count": null,
   "id": "81c43581-b30c-4b1f-b08e-e625baa9f525",
   "metadata": {},
   "outputs": [],
   "source": [
    "df3 = pd.DataFrame({\n",
    "    'name': ['Bob', 'Jake', 'Lisa', 'Sue'],\n",
    "    'salary': [70000, 80000, 120000, 90000],\n",
    "})\n",
    "df3"
   ]
  },
  {
   "cell_type": "code",
   "execution_count": null,
   "id": "ebb9969d-225b-4e2e-a58a-99f38340ab36",
   "metadata": {},
   "outputs": [],
   "source": [
    "df1"
   ]
  },
  {
   "cell_type": "code",
   "execution_count": null,
   "id": "8f72a268-a7d4-4eb7-bd86-9fd1f990c336",
   "metadata": {},
   "outputs": [],
   "source": [
    "pd.merge(df1, df3, left_on='employee', right_on='name')"
   ]
  },
  {
   "cell_type": "code",
   "execution_count": null,
   "id": "09f9a557-f48a-4ff8-b0a7-f2574b724587",
   "metadata": {},
   "outputs": [],
   "source": [
    "pd.merge(\n",
    "    df1, df3,\n",
    "    left_on='employee', \n",
    "    right_on='name',\n",
    ").drop('name', axis=1)"
   ]
  },
  {
   "cell_type": "markdown",
   "id": "0c86d996-8242-4b0e-99b8-2b5bdc31e732",
   "metadata": {},
   "source": [
    "---"
   ]
  },
  {
   "cell_type": "code",
   "execution_count": null,
   "id": "e1222fa9-9b7d-4fad-913d-622580ffa2c1",
   "metadata": {},
   "outputs": [],
   "source": [
    "df1a = df1.set_index('employee')\n",
    "df2a = df2.set_index('employee')"
   ]
  },
  {
   "cell_type": "code",
   "execution_count": null,
   "id": "bcb586e3-0876-40dd-8029-05262cce68a1",
   "metadata": {},
   "outputs": [],
   "source": [
    "df1a"
   ]
  },
  {
   "cell_type": "code",
   "execution_count": null,
   "id": "00e358c4-e2e7-4fae-bbea-8feeabb7b76e",
   "metadata": {},
   "outputs": [],
   "source": [
    "df2a"
   ]
  },
  {
   "cell_type": "code",
   "execution_count": null,
   "id": "3f5344fd-d9ee-4a5e-a0b7-3d232ea2904b",
   "metadata": {},
   "outputs": [],
   "source": [
    "pd.merge(df1a, df2a, left_index=True, right_index=True)"
   ]
  },
  {
   "cell_type": "code",
   "execution_count": null,
   "id": "2f5adc99-1c90-4ee2-b8d8-1dc060e95720",
   "metadata": {},
   "outputs": [],
   "source": [
    "df1a.join(df2a)"
   ]
  },
  {
   "cell_type": "markdown",
   "id": "05a96822-e196-40bf-99d8-0a34233b410e",
   "metadata": {},
   "source": [
    "---"
   ]
  },
  {
   "cell_type": "code",
   "execution_count": null,
   "id": "117a0b5a-e059-4287-9353-22e6f25c731e",
   "metadata": {},
   "outputs": [],
   "source": [
    "df6 = pd.DataFrame({\n",
    "    'name': ['Peter', 'Paul', 'Mary'],\n",
    "    'food': ['fish', 'beans', 'bread'],\n",
    "},columns=['name', 'food'])\n",
    "\n",
    "df7 = pd.DataFrame({\n",
    "    'name': ['Mary', 'Joseph'],\n",
    "    'drink': ['wine', 'beer'],\n",
    "}, columns=['name', 'drink'])"
   ]
  },
  {
   "cell_type": "code",
   "execution_count": null,
   "id": "f1017134-910d-420f-add7-2360612b3a73",
   "metadata": {},
   "outputs": [],
   "source": [
    "df6"
   ]
  },
  {
   "cell_type": "code",
   "execution_count": null,
   "id": "dab7a752-b96c-44af-a270-17d2296a0ab3",
   "metadata": {},
   "outputs": [],
   "source": [
    "df7"
   ]
  },
  {
   "cell_type": "code",
   "execution_count": null,
   "id": "11fc5ddb-030b-4465-8b45-9808e1b2aa13",
   "metadata": {},
   "outputs": [],
   "source": [
    "pd.merge(df6, df7)"
   ]
  },
  {
   "cell_type": "code",
   "execution_count": null,
   "id": "a4e781e4-fa8e-4a0c-a8e0-4b4dc9e4d59a",
   "metadata": {},
   "outputs": [],
   "source": [
    "pd.merge(df6, df7, how='inner')"
   ]
  },
  {
   "cell_type": "code",
   "execution_count": null,
   "id": "e3318764-6af2-49ed-80c0-8505f4dee326",
   "metadata": {},
   "outputs": [],
   "source": [
    "df6"
   ]
  },
  {
   "cell_type": "code",
   "execution_count": null,
   "id": "d84ba841-1fa4-456b-83ec-942b5f674172",
   "metadata": {},
   "outputs": [],
   "source": [
    "df7"
   ]
  },
  {
   "cell_type": "code",
   "execution_count": null,
   "id": "c6a722b8-c07f-415d-b86e-3637d9bcdf81",
   "metadata": {},
   "outputs": [],
   "source": [
    "pd.merge(df6, df7, how='outer')"
   ]
  },
  {
   "cell_type": "code",
   "execution_count": null,
   "id": "7a753db4-6544-4d6a-849c-be0fb0d5de77",
   "metadata": {},
   "outputs": [],
   "source": [
    "df6"
   ]
  },
  {
   "cell_type": "code",
   "execution_count": null,
   "id": "1c541d0f-3d90-48f4-a730-076472fd8c58",
   "metadata": {},
   "outputs": [],
   "source": [
    "df7"
   ]
  },
  {
   "cell_type": "code",
   "execution_count": null,
   "id": "af5aebe9-b2f6-4263-85a7-3db1471a7714",
   "metadata": {},
   "outputs": [],
   "source": [
    "pd.merge(df6, df7, how='left')"
   ]
  },
  {
   "cell_type": "code",
   "execution_count": null,
   "id": "111c5256-64f2-4e8e-9132-8523c453126d",
   "metadata": {},
   "outputs": [],
   "source": [
    "df6"
   ]
  },
  {
   "cell_type": "code",
   "execution_count": null,
   "id": "6442214e-c9bb-4897-95f0-5aa9d7f6120a",
   "metadata": {},
   "outputs": [],
   "source": [
    "df7"
   ]
  },
  {
   "cell_type": "code",
   "execution_count": null,
   "id": "30613f42-fb83-4d61-ac47-610970e6ccd3",
   "metadata": {},
   "outputs": [],
   "source": [
    "pd.merge(df6, df7, how='right')"
   ]
  },
  {
   "cell_type": "markdown",
   "id": "b24a6e16-1811-4fb6-a26f-047efe99df61",
   "metadata": {},
   "source": [
    "# Agregación y agrupamiento"
   ]
  },
  {
   "cell_type": "code",
   "execution_count": null,
   "id": "1c271660-a7f2-48d5-9f6b-34f2556d2111",
   "metadata": {},
   "outputs": [],
   "source": [
    "import seaborn as sns"
   ]
  },
  {
   "cell_type": "code",
   "execution_count": null,
   "id": "ae8bcad9-65b8-45eb-9f8b-ee8f2d77601b",
   "metadata": {},
   "outputs": [],
   "source": [
    "planets = sns.load_dataset('planets')"
   ]
  },
  {
   "cell_type": "code",
   "execution_count": null,
   "id": "ed61e2a4-f7d0-4d9f-a28c-10c2ad4a1749",
   "metadata": {},
   "outputs": [],
   "source": [
    "planets"
   ]
  },
  {
   "cell_type": "markdown",
   "id": "1b848d29-4633-4767-9741-4ed800f39236",
   "metadata": {},
   "source": [
    "---"
   ]
  },
  {
   "cell_type": "code",
   "execution_count": null,
   "id": "24f830cf-e44c-4f8a-81d9-f629c94c71c8",
   "metadata": {},
   "outputs": [],
   "source": [
    "ran = np.random.RandomState(42)"
   ]
  },
  {
   "cell_type": "code",
   "execution_count": null,
   "id": "e104669d-f93b-43c4-a7a4-3d7435c95acd",
   "metadata": {},
   "outputs": [],
   "source": [
    "ser = pd.Series(ran.rand(5))"
   ]
  },
  {
   "cell_type": "code",
   "execution_count": null,
   "id": "11664159-da9a-472e-9434-cf9e501fa961",
   "metadata": {},
   "outputs": [],
   "source": [
    "ser"
   ]
  },
  {
   "cell_type": "code",
   "execution_count": null,
   "id": "0d06a284-a785-488b-8e4d-87184756ffc3",
   "metadata": {},
   "outputs": [],
   "source": [
    "ser.sum()"
   ]
  },
  {
   "cell_type": "code",
   "execution_count": null,
   "id": "97db43a0-9147-455d-ac8b-cd3dc5c8307e",
   "metadata": {},
   "outputs": [],
   "source": [
    "ser.mean()"
   ]
  },
  {
   "cell_type": "code",
   "execution_count": null,
   "id": "936508ce-2279-4ba3-8b50-e1a730b4fe89",
   "metadata": {},
   "outputs": [],
   "source": [
    "df = pd.DataFrame({'A': ran.rand(5), 'B': ran.rand(5)})\n",
    "df"
   ]
  },
  {
   "cell_type": "code",
   "execution_count": null,
   "id": "28909773-46a2-47df-8d20-cdc63f7dc473",
   "metadata": {},
   "outputs": [],
   "source": [
    "df.mean()"
   ]
  },
  {
   "cell_type": "code",
   "execution_count": null,
   "id": "eac378b5-be90-4103-ba10-0332ada174f5",
   "metadata": {},
   "outputs": [],
   "source": [
    "df.mean(axis='columns')"
   ]
  },
  {
   "cell_type": "markdown",
   "id": "b8339635-da41-4822-b82a-524e1c219725",
   "metadata": {},
   "source": [
    "---"
   ]
  },
  {
   "cell_type": "code",
   "execution_count": null,
   "id": "298c1940-0fb5-4d10-9b81-6f26b6a0c7d5",
   "metadata": {},
   "outputs": [],
   "source": [
    "planets.describe()"
   ]
  },
  {
   "cell_type": "code",
   "execution_count": null,
   "id": "1c64747a-9243-496d-8157-305ea31c365c",
   "metadata": {},
   "outputs": [],
   "source": [
    "planets.dropna().describe()"
   ]
  },
  {
   "cell_type": "code",
   "execution_count": null,
   "id": "71c6e67e-5e68-4c5d-b1db-f4cd8068905c",
   "metadata": {},
   "outputs": [],
   "source": [
    "planets.dropna().count()"
   ]
  },
  {
   "cell_type": "code",
   "execution_count": null,
   "id": "145c5784-61cd-41c4-b59c-751fc0978ace",
   "metadata": {},
   "outputs": [],
   "source": [
    "planets.dropna().sum()"
   ]
  },
  {
   "cell_type": "markdown",
   "id": "28e54475-2079-40c9-b6cb-0a788ff1a445",
   "metadata": {},
   "source": [
    "---"
   ]
  },
  {
   "cell_type": "code",
   "execution_count": null,
   "id": "dc51423d-b534-4dae-9ec3-251d420c2416",
   "metadata": {},
   "outputs": [],
   "source": [
    "df = pd.DataFrame({\n",
    "    'key': ['A', 'B', 'C', 'A', 'B', 'C'],\n",
    "    'data': range(6),\n",
    "}, columns=['key', 'data'])\n",
    "df"
   ]
  },
  {
   "cell_type": "code",
   "execution_count": null,
   "id": "82e17717-34b1-4bbc-8295-a1a1d2238d3b",
   "metadata": {},
   "outputs": [],
   "source": [
    "df.groupby('key').sum()"
   ]
  },
  {
   "cell_type": "markdown",
   "id": "7b58f34b-bf90-44e3-8277-f05c2eb4e2be",
   "metadata": {},
   "source": [
    "---"
   ]
  },
  {
   "cell_type": "code",
   "execution_count": null,
   "id": "058b2171-2f86-41e1-8614-200af8f7d02c",
   "metadata": {},
   "outputs": [],
   "source": [
    "planets.groupby('method')"
   ]
  },
  {
   "cell_type": "code",
   "execution_count": null,
   "id": "69c8de54-0aab-45c7-8a7f-75c13b6bed65",
   "metadata": {},
   "outputs": [],
   "source": [
    "planets.groupby('method')['orbital_period']"
   ]
  },
  {
   "cell_type": "code",
   "execution_count": null,
   "id": "4e7c0589-e592-4244-9809-de9302e45390",
   "metadata": {},
   "outputs": [],
   "source": [
    "planets.groupby('method')[['orbital_period']]"
   ]
  },
  {
   "cell_type": "code",
   "execution_count": null,
   "id": "df870b8d-811a-4789-89f2-ee8660b54131",
   "metadata": {},
   "outputs": [],
   "source": [
    "planets.groupby('method')['orbital_period'].median()"
   ]
  },
  {
   "cell_type": "code",
   "execution_count": null,
   "id": "82742d0a-a7e3-4998-a43c-fa07e3e17ce2",
   "metadata": {},
   "outputs": [],
   "source": [
    "planets.groupby('method')[['orbital_period']].median()"
   ]
  },
  {
   "cell_type": "code",
   "execution_count": null,
   "id": "ebff6e5b-d9d5-4148-9aab-6454a0629847",
   "metadata": {},
   "outputs": [],
   "source": [
    "for (method, group) in planets.groupby('method'):\n",
    "    print(f\"{method:30} shape={group.shape}\")"
   ]
  },
  {
   "cell_type": "code",
   "execution_count": null,
   "id": "cbf6335d-bab1-4ffe-b71c-b6d0633605dd",
   "metadata": {},
   "outputs": [],
   "source": [
    "planets.groupby('method')['year'].describe().sort_values('count', ascending=False)"
   ]
  },
  {
   "cell_type": "markdown",
   "id": "2d9d1f47-0684-4b74-8b1f-8dca5e941caf",
   "metadata": {},
   "source": [
    "---"
   ]
  },
  {
   "cell_type": "code",
   "execution_count": null,
   "id": "fe628be5-780c-4239-9bf4-5ca9f614a6c2",
   "metadata": {},
   "outputs": [],
   "source": [
    "planets.groupby('method').agg == planets.groupby('method').aggregate"
   ]
  },
  {
   "cell_type": "code",
   "execution_count": null,
   "id": "77a28ec6-7200-4b23-bd6d-5a906c430e60",
   "metadata": {},
   "outputs": [],
   "source": [
    "planets.groupby('method').agg(['min', np.median, max])"
   ]
  },
  {
   "cell_type": "code",
   "execution_count": null,
   "id": "8450d398-0198-459f-b9a2-39a2e8dfa643",
   "metadata": {},
   "outputs": [],
   "source": [
    "planets.groupby('method').aggregate(['min', np.median, max])"
   ]
  },
  {
   "cell_type": "code",
   "execution_count": null,
   "id": "db360cf8-3584-42cd-a920-93f235d43898",
   "metadata": {},
   "outputs": [],
   "source": [
    "planets.dropna().groupby('method').aggregate({\n",
    "    'mass': 'mean',\n",
    "    'distance': 'max',\n",
    "})"
   ]
  },
  {
   "cell_type": "markdown",
   "id": "0db7b200-e0eb-4e00-b19e-73b0c6457876",
   "metadata": {},
   "source": [
    "# Tarea"
   ]
  },
  {
   "cell_type": "markdown",
   "id": "39bdcd93-c675-4657-ad8c-1ccdb5a97641",
   "metadata": {},
   "source": [
    "**1.** Describe la diferencia entre:\n",
    "- *Time stamp*\n",
    "- *Time intervals*\n",
    "- *Time deltas*\n",
    "\n",
    "¿Qué métodos y funciones tiene Pandas para trabajar con estos conceptos?\n",
    "Escribe ejemplos ilustrativos."
   ]
  },
  {
   "cell_type": "markdown",
   "id": "4bb9c554-c1ac-431f-88ea-96582cb52fdb",
   "metadata": {},
   "source": [
    "**2.** Escribe ejemplos ilustrativos de la función `datetime` del módulo `datetime`, de la función `parser` del módulo `dateutil` y del método `strftime` de los objetos `datetime`."
   ]
  },
  {
   "cell_type": "markdown",
   "id": "bde15482-2c1e-4405-8b01-05031e024ccf",
   "metadata": {},
   "source": [
    "**3.** Revisa los siguientes fragmentos de código y describe qué operaciones trabajan con tiempo y qué hacen estas operaciones."
   ]
  },
  {
   "cell_type": "code",
   "execution_count": null,
   "id": "57c97816-96c2-4781-9a61-2b462a65656e",
   "metadata": {},
   "outputs": [],
   "source": [
    "# !pip install yfinance"
   ]
  },
  {
   "cell_type": "code",
   "execution_count": null,
   "id": "a89a056c-112c-4969-92f8-c526103a8990",
   "metadata": {},
   "outputs": [],
   "source": [
    "import yfinance as yf"
   ]
  },
  {
   "cell_type": "code",
   "execution_count": null,
   "id": "0efbff11-9b16-4343-b568-c881d78557dc",
   "metadata": {},
   "outputs": [],
   "source": [
    "goog = yf.download('GOOG', start = '2004-01-01', end='2016-01-01')"
   ]
  },
  {
   "cell_type": "code",
   "execution_count": null,
   "id": "067874cc-a734-4d82-b654-cf8988874198",
   "metadata": {},
   "outputs": [],
   "source": [
    "goog"
   ]
  },
  {
   "cell_type": "code",
   "execution_count": null,
   "id": "bd2cf98b-8be1-4bbd-bfc8-386c546dc1c3",
   "metadata": {},
   "outputs": [],
   "source": [
    "cprice = goog['Close']"
   ]
  },
  {
   "cell_type": "code",
   "execution_count": null,
   "id": "9ffc359b-1c69-48c3-8bcc-355ca8065253",
   "metadata": {},
   "outputs": [],
   "source": [
    "import matplotlib.pyplot as plt\n",
    "import seaborn\n",
    "seaborn.set_theme()"
   ]
  },
  {
   "cell_type": "code",
   "execution_count": null,
   "id": "34503dcd-ad9c-48e0-ae58-021a64505dee",
   "metadata": {},
   "outputs": [],
   "source": [
    "cprice.plot();"
   ]
  },
  {
   "cell_type": "code",
   "execution_count": null,
   "id": "f1c2e285-064f-43dd-ab37-23967cf0ddc7",
   "metadata": {},
   "outputs": [],
   "source": [
    "resampled = cprice.resample('BA').mean()\n",
    "resampled"
   ]
  },
  {
   "cell_type": "code",
   "execution_count": null,
   "id": "a3cddf67-bca6-47db-8630-7d7cd2c3c67b",
   "metadata": {},
   "outputs": [],
   "source": [
    "freq = cprice.asfreq('BA')\n",
    "freq"
   ]
  },
  {
   "cell_type": "code",
   "execution_count": null,
   "id": "32cc9155-6b63-413b-b5fe-564f21469a55",
   "metadata": {},
   "outputs": [],
   "source": [
    "cprice.plot(alpha=0.5, style='-')\n",
    "resampled.plot(style=':')\n",
    "freq.plot(style='--')\n",
    "plt.legend(['input', 'resample', 'asfreq'],\n",
    "           loc='upper left');"
   ]
  },
  {
   "cell_type": "code",
   "execution_count": null,
   "id": "d8f50d00-385b-4069-909e-477610fb373e",
   "metadata": {},
   "outputs": [],
   "source": [
    "rolling = cprice.rolling(365, center=True)\n",
    "data = pd.DataFrame({\n",
    "    'input': cprice,\n",
    "    'one-year rolling_mean': rolling.mean(),\n",
    "    'one-year rolling_str': rolling.std(),\n",
    "})\n",
    "ax = data.plot(style=['-', '--', ':'])\n",
    "ax.lines[0].set_alpha(0.3);"
   ]
  },
  {
   "cell_type": "code",
   "execution_count": null,
   "id": "14b2f83b-ca85-46b3-b47b-8bcb063e4e3f",
   "metadata": {},
   "outputs": [],
   "source": []
  }
 ],
 "metadata": {
  "kernelspec": {
   "display_name": "Python 3 (ipykernel)",
   "language": "python",
   "name": "python3"
  },
  "language_info": {
   "codemirror_mode": {
    "name": "ipython",
    "version": 3
   },
   "file_extension": ".py",
   "mimetype": "text/x-python",
   "name": "python",
   "nbconvert_exporter": "python",
   "pygments_lexer": "ipython3",
   "version": "3.10.12"
  }
 },
 "nbformat": 4,
 "nbformat_minor": 5
}
