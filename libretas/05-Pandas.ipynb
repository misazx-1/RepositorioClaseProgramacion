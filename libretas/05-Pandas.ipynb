{
 "cells": [
  {
   "cell_type": "markdown",
   "id": "fc864d6f-cd74-49eb-aee6-bff91fe5c256",
   "metadata": {},
   "source": [
    "# Introducción a Pandas\n",
    "\n",
    "Pandas es una biblioteca que construye sobre NumPy y provee una implementación eficiente de *DataFrames* un tipo de objetos de Python similar a una tabla que permite una conveniente manipulación de columnas y renglones, así como mecanismos para trabajar con valores faltantes e índices más complejos que los usuales (por ejemplo, fechas o instantes de tiempo).\n",
    "\n",
    "En esta libreta veremos cómo utilizar los tipos `Series` y `DataFrame` de Pandas. Pero primero asegúrate de haber instalado la biblioteca:\n",
    "1. Activa tu entorno de trabajo.\n",
    "2. Ejecuta el comando en la consola: `pip install pandas`."
   ]
  },
  {
   "cell_type": "code",
   "execution_count": 1,
   "id": "83f04829-9679-455f-bdd3-092a95beede6",
   "metadata": {},
   "outputs": [],
   "source": [
    "import numpy as np\n",
    "import pandas as pd"
   ]
  },
  {
   "cell_type": "code",
   "execution_count": null,
   "id": "e220b560-066f-43b3-b31c-b7469da81e11",
   "metadata": {},
   "outputs": [],
   "source": [
    "pd.__version__"
   ]
  },
  {
   "cell_type": "markdown",
   "id": "22ba98b6-189b-4c0b-9d2e-b5d1a07c95a7",
   "metadata": {},
   "source": [
    "## Series\n",
    "\n",
    "El tipo `Series` representa arreglos unidimensionales de datos indexados. Puede ser creado a partir de una secuencia:"
   ]
  },
  {
   "cell_type": "code",
   "execution_count": null,
   "id": "c996ccd4-c825-440e-b59e-be792252e3b9",
   "metadata": {},
   "outputs": [],
   "source": [
    "data = pd.Series([0.25, 0.5, 0.75, 1.0])\n",
    "data"
   ]
  },
  {
   "cell_type": "markdown",
   "id": "6d296cf1-b4ff-458d-8e9e-6624a8957b4c",
   "metadata": {},
   "source": [
    "Observemos que un objeto `Series` contempla tanto la secuencia de valores como la secuencia de índices. Los valores se almacenan internamente como un arreglo de NumPy:"
   ]
  },
  {
   "cell_type": "code",
   "execution_count": null,
   "id": "c48b802f-ba45-46d3-96bb-cc80e72a7450",
   "metadata": {},
   "outputs": [],
   "source": [
    "data.values"
   ]
  },
  {
   "cell_type": "markdown",
   "id": "61ba4f56-2b54-49f7-8637-21a01d3cd1cf",
   "metadata": {},
   "source": [
    "Los índices se almacenan internamente como un objeto parecido a arreglo de tipo `pd.Index`:"
   ]
  },
  {
   "cell_type": "code",
   "execution_count": null,
   "id": "82ec3c33-cafd-45d7-bca9-30e757dd3ae2",
   "metadata": {},
   "outputs": [],
   "source": [
    "data.index"
   ]
  },
  {
   "cell_type": "markdown",
   "id": "d1cd6d49-9e8c-45dd-a6c8-5514263ff69f",
   "metadata": {},
   "source": [
    "Podemos usar operaciones similares a los arreglos de NumPy, pero para objetos `Series`."
   ]
  },
  {
   "cell_type": "code",
   "execution_count": null,
   "id": "de2a0ce6-e521-424f-984c-f424efe7f08b",
   "metadata": {},
   "outputs": [],
   "source": [
    "data[1]"
   ]
  },
  {
   "cell_type": "code",
   "execution_count": null,
   "id": "6d656083-9eca-47b6-bfdd-675b1c7d1b53",
   "metadata": {},
   "outputs": [],
   "source": [
    "data[1:3]"
   ]
  },
  {
   "cell_type": "code",
   "execution_count": null,
   "id": "f6452598-52c6-48a1-9f70-a545e4bfc6be",
   "metadata": {},
   "outputs": [],
   "source": [
    "data"
   ]
  },
  {
   "cell_type": "markdown",
   "id": "b8de256d-88c5-4ffa-9305-0c2eacdbf8ff",
   "metadata": {},
   "source": [
    "Al calcular un subarreglo, los índices siguen correspondiendo a los valores del arreglo original.\n",
    "\n",
    "Podemos pensar en los objetos `Series` como arreglos de NumPy generalizados. La inclusión de los índices de forma explícita en la estructura de los objetos nos permite, por ejemplo, usar otros tipos de valores no numéricos."
   ]
  },
  {
   "cell_type": "markdown",
   "id": "09b867b9-6e37-4e00-a916-7780d1b8cc09",
   "metadata": {},
   "source": [
    "---"
   ]
  },
  {
   "cell_type": "code",
   "execution_count": null,
   "id": "5e0e2baf-391e-4f44-a4ef-205bd098739e",
   "metadata": {},
   "outputs": [],
   "source": [
    "data = pd.Series([0.25, 0.5, 0.75, 1.0],\n",
    "                 index=['a', 'b', 'c', 'd'])\n",
    "data"
   ]
  },
  {
   "cell_type": "code",
   "execution_count": null,
   "id": "8afcb34b-a5fc-4c5e-8828-212727bdb41f",
   "metadata": {},
   "outputs": [],
   "source": [
    "data['b']"
   ]
  },
  {
   "cell_type": "code",
   "execution_count": null,
   "id": "bcbfce60-b384-4013-9cb3-02db70b08f18",
   "metadata": {},
   "outputs": [],
   "source": [
    "data.index"
   ]
  },
  {
   "cell_type": "markdown",
   "id": "9ecb49c7-94fe-43ea-84b1-95966e943685",
   "metadata": {},
   "source": [
    "---"
   ]
  },
  {
   "cell_type": "code",
   "execution_count": null,
   "id": "f9e211b5-1e30-4cf9-80e8-126fa1d909c5",
   "metadata": {},
   "outputs": [],
   "source": [
    "data = pd.Series([0.25, 0.5, 0.75, 1.0],\n",
    "                 index=[2, 5, 3, 7])\n",
    "data"
   ]
  },
  {
   "cell_type": "code",
   "execution_count": null,
   "id": "bc5a435a-443f-4dff-8c0c-fd039d25193a",
   "metadata": {},
   "outputs": [],
   "source": [
    "data[5]"
   ]
  },
  {
   "cell_type": "markdown",
   "id": "033b9748-b951-45f5-ab38-a8844a3b7284",
   "metadata": {},
   "source": [
    "---\n",
    "\n",
    "Podemos utilizar `Series` como una forma de diccionario:"
   ]
  },
  {
   "cell_type": "code",
   "execution_count": null,
   "id": "7ec6ceef-ca79-486b-8ac3-41aec2ba349b",
   "metadata": {},
   "outputs": [],
   "source": [
    "población = pd.Series({\n",
    "    'Sonora': 2945000,\n",
    "    'Chihuahua': 3742000,\n",
    "    'Sinaloa': 3027000,\n",
    "    'La Habana': 3265832,\n",
    "    'Santiago de Cuba': 2286360,\n",
    "})\n",
    "población"
   ]
  },
  {
   "cell_type": "markdown",
   "id": "2178f941-0486-4480-9db2-2cd7628fde74",
   "metadata": {},
   "source": [
    "En este ejemplo constuimos un objeto `Series` a partir de un diccionario, el índice se obtiene se las llaves del diccionario y los valores... de los valores."
   ]
  },
  {
   "cell_type": "code",
   "execution_count": null,
   "id": "2a7afbe6-089a-4a63-afa7-5d1483dd6a58",
   "metadata": {},
   "outputs": [],
   "source": [
    "población['Sonora']"
   ]
  },
  {
   "cell_type": "code",
   "execution_count": null,
   "id": "bae1f02f-1dba-46f8-8dfb-7a11cbe67943",
   "metadata": {},
   "outputs": [],
   "source": [
    "población['Chihuahua':'La Habana']"
   ]
  },
  {
   "cell_type": "code",
   "execution_count": null,
   "id": "bb5114cc-4f23-47f4-a9e3-ddb6b485d66b",
   "metadata": {},
   "outputs": [],
   "source": [
    "población['La Habana':'Chihuahua']"
   ]
  },
  {
   "cell_type": "markdown",
   "id": "7063ba09-c7ff-4725-a3a1-cce0ca24d50c",
   "metadata": {},
   "source": [
    "**Problema 1:** Determina qué ocurre cuando creamos un objeto `Series` a partir de un diccionario, pero adicionalmente proveemos el argumento opcional `index`. ¿De qué forma podemos utilizar esta propiedad?\n",
    "\n",
    "**Problema 2:** Determina qué ocurre cuando creamos un objeto `Series` a partir de un valor numérico, pero adicionalmente proveemos el argumento opcional `index`. ¿De qué forma podemos utilizar esta propiedad?"
   ]
  },
  {
   "cell_type": "markdown",
   "id": "dc35fa7c-d1a2-42d5-bc36-3ffa43000a27",
   "metadata": {},
   "source": [
    "## DataFrame\n",
    "\n",
    "Recordemos la serie de población:"
   ]
  },
  {
   "cell_type": "code",
   "execution_count": null,
   "id": "ff31d7d8-2251-48a7-a68b-58478a3ffd96",
   "metadata": {},
   "outputs": [],
   "source": [
    "población"
   ]
  },
  {
   "cell_type": "markdown",
   "id": "ccbc2aa0-6340-4bcc-9b4f-4d9848bae144",
   "metadata": {},
   "source": [
    "Definamos ahora una serie similar, pero con la supericie de los territorios medida en kilómetros cuadrados:"
   ]
  },
  {
   "cell_type": "code",
   "execution_count": null,
   "id": "3f6fcaca-495a-4bc3-9714-01c0da872140",
   "metadata": {},
   "outputs": [],
   "source": [
    "superficie = pd.Series({\n",
    "    'La Habana': 728,\n",
    "    'Sinaloa': 58200,\n",
    "    'Santiago de Cuba': 6243,\n",
    "    'Sonora': 179355,\n",
    "    'Chihuahua': 247455,\n",
    "})\n",
    "superficie"
   ]
  },
  {
   "cell_type": "markdown",
   "id": "1867308c-0fb8-49ec-8cd0-3d66c2629183",
   "metadata": {},
   "source": [
    "Ahora vamos a crear una tabla (`DataFrame`) que contenga estas dos valiosas piezas de información:"
   ]
  },
  {
   "cell_type": "code",
   "execution_count": null,
   "id": "bff1d99a-8029-4667-8b3a-0e9865a85a1e",
   "metadata": {},
   "outputs": [],
   "source": [
    "territorios = pd.DataFrame({\n",
    "    'población': población,\n",
    "    'superficie': superficie,\n",
    "})\n",
    "territorios"
   ]
  },
  {
   "cell_type": "markdown",
   "id": "92d58987-78b3-41f7-b3b8-e95d492cf06f",
   "metadata": {},
   "source": [
    "Los DataFrames, al igual que las Series, tienen un atributo `index` con el índice de la tabla:"
   ]
  },
  {
   "cell_type": "code",
   "execution_count": null,
   "id": "dcc31d55-8639-4135-81c4-f41367d25c3e",
   "metadata": {},
   "outputs": [],
   "source": [
    "pruebita = pd.Series([5, 10, 2, 4, 6])"
   ]
  },
  {
   "cell_type": "code",
   "execution_count": null,
   "id": "99c0e1db-54d6-4303-8292-68f38ce9bd1d",
   "metadata": {},
   "outputs": [],
   "source": [
    "pruebita"
   ]
  },
  {
   "cell_type": "code",
   "execution_count": null,
   "id": "5c873c95-a734-46d5-b3fc-8cd4b8b1c06b",
   "metadata": {},
   "outputs": [],
   "source": [
    "pruebita.sort_values()"
   ]
  },
  {
   "cell_type": "code",
   "execution_count": null,
   "id": "c36c8bcc-e7a6-4951-965f-a96f8e4055e6",
   "metadata": {},
   "outputs": [],
   "source": [
    "territorios.index"
   ]
  },
  {
   "cell_type": "markdown",
   "id": "15152698-7b96-4d4e-a516-733cae997d36",
   "metadata": {},
   "source": [
    "Cuando escuchamos índice de una tabla, pensemos en sus renglones. En este caso, cada renglón representa un territorio.\n",
    "\n",
    "También tenemos el atributo `columns` (columnas). En este caso, cada columna corresponde a cada medición asociada a los territorios."
   ]
  },
  {
   "cell_type": "code",
   "execution_count": null,
   "id": "de4615b6-6a08-45e0-8bcc-fe5f32d002e1",
   "metadata": {},
   "outputs": [],
   "source": [
    "territorios.columns"
   ]
  },
  {
   "cell_type": "markdown",
   "id": "08391ede-5611-4a64-8754-9c2bbb084d3a",
   "metadata": {},
   "source": [
    "El tipo de objeto para las columnas también es `pd.Index`. Podemos pensar las tablas como arreglos bidimensionales de NumPy.\n",
    "\n",
    "Observemos también que al construir la tabla, las serie población y la serie superficie tenían los mismos índices pero en orden distinto. Pandas se encarga de crear la tabla emparejando correctamente las mediciones de acuerdo al *valor* de su índice, no la *posición* de este."
   ]
  },
  {
   "cell_type": "markdown",
   "id": "704379b4-abb5-4676-802b-3d5fab1fd69b",
   "metadata": {},
   "source": [
    "---"
   ]
  },
  {
   "cell_type": "code",
   "execution_count": null,
   "id": "bf3bf996-28e8-4c0d-9780-cc2ef2bdbe86",
   "metadata": {},
   "outputs": [],
   "source": [
    "territorios['superficie']"
   ]
  },
  {
   "cell_type": "code",
   "execution_count": null,
   "id": "9b0ece35-0b13-4640-9707-c2ae80717e8b",
   "metadata": {},
   "outputs": [],
   "source": [
    "territorios['población']"
   ]
  },
  {
   "cell_type": "markdown",
   "id": "0baecb44-2683-4c3d-a89c-b4aa35b7458b",
   "metadata": {},
   "source": [
    "---\n",
    "\n",
    "Distinta formas de crear DataFrames:"
   ]
  },
  {
   "cell_type": "code",
   "execution_count": null,
   "id": "6c3ae416-9fd2-4eca-858a-b75a1855c02c",
   "metadata": {},
   "outputs": [],
   "source": [
    "# A partir de una Serie\n",
    "pd.DataFrame(población, columns=['población'])"
   ]
  },
  {
   "cell_type": "code",
   "execution_count": null,
   "id": "b4ce445e-5959-42aa-bdf4-e636f745b3d6",
   "metadata": {},
   "outputs": [],
   "source": [
    "# A partir de una lista de diccionarios\n",
    "pd.DataFrame([{'a': i, 'b': 2 * i} for i in range(3)])"
   ]
  },
  {
   "cell_type": "code",
   "execution_count": null,
   "id": "71a5e3d4-eb1b-4905-b7c3-6c37679ddceb",
   "metadata": {},
   "outputs": [],
   "source": [
    "pd.DataFrame([\n",
    "    {'a': 1, 'b': 2},\n",
    "    {'b': 3, 'c': 4},\n",
    "])"
   ]
  },
  {
   "cell_type": "code",
   "execution_count": null,
   "id": "d1c90e28-c883-462a-9e5e-bebc59c4b723",
   "metadata": {},
   "outputs": [],
   "source": [
    "# A partir de un diccionario con Series como valores\n",
    "pd.DataFrame({\n",
    "    'población': población,\n",
    "    'superficie': superficie,\n",
    "})"
   ]
  },
  {
   "cell_type": "code",
   "execution_count": 3,
   "id": "55eebcda-5137-4ae4-8f93-f451ad976577",
   "metadata": {},
   "outputs": [
    {
     "data": {
      "text/plain": [
       "array([(0, 0.), (0, 0.), (0, 0.)], dtype=[('A', '<i8'), ('B', '<f8')])"
      ]
     },
     "execution_count": 3,
     "metadata": {},
     "output_type": "execute_result"
    }
   ],
   "source": [
    "# A partir de una arreglo bidimensional de NumPy\n",
    "A = np.zeros(3, dtype=[('A', 'i8'), ('B', 'f8')])\n",
    "pd.DataFrame(A)"
   ]
  },
  {
   "cell_type": "markdown",
   "id": "dc8f3040-5aaa-4a91-9d56-6daa3f0562e1",
   "metadata": {},
   "source": [
    "**Problema 3:** El ejemplo anterior utiliza un concepto llamado *Structured Arrays* de NumPy. Investiga para qué pueden ser utilizados este tipo de arreglos."
   ]
  },
  {
   "cell_type": "markdown",
   "id": "bbd5681c-035c-45a4-907d-bc9bb9113f60",
   "metadata": {},
   "source": [
    "## Index\n",
    "\n",
    "Tanto los objetos DataFrame como Series contienen índices explícitos que nos permiten hacer referencia a la información que contienen.\n",
    "\n",
    "La estructura de los índices podemos pensarla como un arreglo inmutable (no podemos modificar sus valores) o como un conjunto ordenado (o multiconjunto ya que un índice puede tener valores repetidos)."
   ]
  },
  {
   "cell_type": "code",
   "execution_count": null,
   "id": "c9b03177-230d-406e-afcc-d5eef9a18400",
   "metadata": {},
   "outputs": [],
   "source": [
    "ind = pd.Index([2, 3, 5, 7, 11])\n",
    "ind"
   ]
  },
  {
   "cell_type": "code",
   "execution_count": null,
   "id": "ab00ebbc-7d2f-427b-9d45-4db57a81eeff",
   "metadata": {},
   "outputs": [],
   "source": [
    "ind[1]"
   ]
  },
  {
   "cell_type": "code",
   "execution_count": null,
   "id": "90c07b07-f110-4db6-aa84-c10e61ed6eba",
   "metadata": {},
   "outputs": [],
   "source": [
    "ind[::2]"
   ]
  },
  {
   "cell_type": "code",
   "execution_count": null,
   "id": "282a4a73-25ce-4986-a471-6dbb7198afe4",
   "metadata": {},
   "outputs": [],
   "source": [
    "ind.size"
   ]
  },
  {
   "cell_type": "code",
   "execution_count": null,
   "id": "718f717d-39f2-4cd2-a891-6aa636838eb9",
   "metadata": {},
   "outputs": [],
   "source": [
    "ind.shape"
   ]
  },
  {
   "cell_type": "code",
   "execution_count": null,
   "id": "52d45492-02ff-4c84-b8d6-cb1117b61481",
   "metadata": {},
   "outputs": [],
   "source": [
    "ind.ndim"
   ]
  },
  {
   "cell_type": "code",
   "execution_count": null,
   "id": "4c1483d1-8e85-44ef-b3a5-1371d330bdc2",
   "metadata": {},
   "outputs": [],
   "source": [
    "ind.dtype"
   ]
  },
  {
   "cell_type": "code",
   "execution_count": null,
   "id": "fc3e1b41-d548-45a2-9754-4a5ef79408c5",
   "metadata": {},
   "outputs": [],
   "source": [
    "ind[1] = 0"
   ]
  },
  {
   "cell_type": "code",
   "execution_count": null,
   "id": "ee2089ba-0126-4301-af77-d9a65f301d7f",
   "metadata": {},
   "outputs": [],
   "source": [
    "indA = pd.Index([1, 3, 5, 7, 9])\n",
    "indB = pd.Index([2, 3, 5, 7, 11])"
   ]
  },
  {
   "cell_type": "code",
   "execution_count": null,
   "id": "06e1aa22-39b2-4fbc-847e-d70ed94df770",
   "metadata": {},
   "outputs": [],
   "source": [
    "indA.intersection(indB)"
   ]
  },
  {
   "cell_type": "code",
   "execution_count": null,
   "id": "9bb931cb-4238-49bb-ace7-4f0e22afc426",
   "metadata": {},
   "outputs": [],
   "source": [
    "indA.union(indB)"
   ]
  },
  {
   "cell_type": "code",
   "execution_count": null,
   "id": "0c2fe083-a7cc-498d-831b-cc8d233516d0",
   "metadata": {},
   "outputs": [],
   "source": [
    "indA.symmetric_difference(indB)"
   ]
  },
  {
   "cell_type": "markdown",
   "id": "9e67e423-8678-4b25-82e0-4ce5634b7188",
   "metadata": {},
   "source": [
    "## Indexando y seleccionando datos"
   ]
  },
  {
   "cell_type": "code",
   "execution_count": null,
   "id": "0905dd13-6138-4df4-8ecd-b8cc2bb3415d",
   "metadata": {},
   "outputs": [],
   "source": [
    "data = pd.Series([0.25, 0.5, 0.75, 1.0],\n",
    "                 index=['a', 'b', 'c', 'd'])\n",
    "data"
   ]
  },
  {
   "cell_type": "code",
   "execution_count": null,
   "id": "471e37c4-838b-4b81-a871-5b0badb4dda2",
   "metadata": {},
   "outputs": [],
   "source": [
    "data['b']"
   ]
  },
  {
   "cell_type": "code",
   "execution_count": null,
   "id": "48e1a945-19b9-49a4-b95b-75a4b9ff2fae",
   "metadata": {},
   "outputs": [],
   "source": [
    "'a' in data"
   ]
  },
  {
   "cell_type": "code",
   "execution_count": null,
   "id": "d2b992d8-4fef-4bcd-8e76-ba9a7dc303d6",
   "metadata": {},
   "outputs": [],
   "source": [
    "list(data.keys())"
   ]
  },
  {
   "cell_type": "code",
   "execution_count": null,
   "id": "d786a75a-d632-4b29-8ba1-71ee6409c8f4",
   "metadata": {},
   "outputs": [],
   "source": [
    "list(data.items())"
   ]
  },
  {
   "cell_type": "code",
   "execution_count": null,
   "id": "d9d58e4e-bd7d-46ff-88a3-58b5b0a80d8c",
   "metadata": {},
   "outputs": [],
   "source": [
    "data['e'] = 1.25"
   ]
  },
  {
   "cell_type": "code",
   "execution_count": null,
   "id": "1da5ed09-bbae-4a7b-bbd0-3a422bf286c6",
   "metadata": {},
   "outputs": [],
   "source": [
    "data"
   ]
  },
  {
   "cell_type": "code",
   "execution_count": null,
   "id": "ee436eab-c51a-4925-b915-c21835706c88",
   "metadata": {},
   "outputs": [],
   "source": [
    "data['a':'c']"
   ]
  },
  {
   "cell_type": "code",
   "execution_count": null,
   "id": "e54adde0-addd-4f1a-92b9-2ab1a7dc44eb",
   "metadata": {},
   "outputs": [],
   "source": [
    "data[0:2]"
   ]
  },
  {
   "cell_type": "code",
   "execution_count": null,
   "id": "056e028a-7f68-445c-8e63-c7095839557c",
   "metadata": {},
   "outputs": [],
   "source": [
    "data[(data > 0.3) & (data < 0.8)]"
   ]
  },
  {
   "cell_type": "code",
   "execution_count": null,
   "id": "94e725a7-7a83-4846-9b0c-cca24796d45d",
   "metadata": {},
   "outputs": [],
   "source": [
    "(data > 0.3) & (data < 0.8)"
   ]
  },
  {
   "cell_type": "code",
   "execution_count": null,
   "id": "7f975b12-62c2-464f-8d7c-18501293a8b8",
   "metadata": {},
   "outputs": [],
   "source": [
    "data[['a', 'e']]"
   ]
  },
  {
   "cell_type": "code",
   "execution_count": null,
   "id": "ca39b051-4460-4f34-a2ad-4d71ec8a1e76",
   "metadata": {},
   "outputs": [],
   "source": [
    "data = pd.Series(['a', 'b', 'c'], index=[1, 3, 5])\n",
    "data"
   ]
  },
  {
   "cell_type": "code",
   "execution_count": null,
   "id": "a5182afb-e10b-4d81-8de1-5792298fd3fc",
   "metadata": {},
   "outputs": [],
   "source": [
    "data[1]"
   ]
  },
  {
   "cell_type": "code",
   "execution_count": null,
   "id": "5572f3ab-228a-4712-922f-97b161a17e13",
   "metadata": {},
   "outputs": [],
   "source": [
    "data[1:3]"
   ]
  },
  {
   "cell_type": "code",
   "execution_count": null,
   "id": "b03fad60-d060-42ba-abec-b683694283dc",
   "metadata": {},
   "outputs": [],
   "source": [
    "data.loc[1]"
   ]
  },
  {
   "cell_type": "code",
   "execution_count": null,
   "id": "8276a5eb-8bf1-4a5c-a69a-9d03ca81190d",
   "metadata": {},
   "outputs": [],
   "source": [
    "data.loc[1:3]"
   ]
  },
  {
   "cell_type": "code",
   "execution_count": null,
   "id": "07340e8f-82d9-40d8-922d-511e2c055d51",
   "metadata": {},
   "outputs": [],
   "source": [
    "data.iloc[1]"
   ]
  },
  {
   "cell_type": "code",
   "execution_count": null,
   "id": "f9d4af97-0021-4ed8-aab4-461d31b44406",
   "metadata": {},
   "outputs": [],
   "source": [
    "data.iloc[1:3]"
   ]
  },
  {
   "cell_type": "code",
   "execution_count": null,
   "id": "d2ff816f-af59-4851-9ec9-684875157adc",
   "metadata": {},
   "outputs": [],
   "source": [
    "territorios"
   ]
  },
  {
   "cell_type": "code",
   "execution_count": null,
   "id": "98e8b5e0-06b6-43d5-b11d-8e4026c4beb6",
   "metadata": {},
   "outputs": [],
   "source": [
    "territorios['población']"
   ]
  },
  {
   "cell_type": "code",
   "execution_count": null,
   "id": "8b477ab9-3410-4727-a30f-c48dac74c594",
   "metadata": {},
   "outputs": [],
   "source": [
    "territorios['superficie']"
   ]
  },
  {
   "cell_type": "code",
   "execution_count": null,
   "id": "d64e8d28-bc30-4e68-8011-fb70e75f873b",
   "metadata": {},
   "outputs": [],
   "source": [
    "territorios.superficie is territorios['superficie']"
   ]
  },
  {
   "cell_type": "code",
   "execution_count": null,
   "id": "9eda8b0d-4894-48b6-b9f8-41a446eb199f",
   "metadata": {},
   "outputs": [],
   "source": [
    "territorios.población is territorios['población']"
   ]
  },
  {
   "cell_type": "code",
   "execution_count": null,
   "id": "bf1b8e2f-06a2-45e2-86c4-aeef9aa9f5ae",
   "metadata": {},
   "outputs": [],
   "source": [
    "territorios['densidad'] = territorios['población'] / territorios['superficie']"
   ]
  },
  {
   "cell_type": "code",
   "execution_count": null,
   "id": "379c2b98-4723-4ef2-adfc-0f5ae9b71216",
   "metadata": {},
   "outputs": [],
   "source": [
    "territorios"
   ]
  },
  {
   "cell_type": "code",
   "execution_count": null,
   "id": "8b3feff5-f2f6-49c5-a162-5ac4d84630ad",
   "metadata": {},
   "outputs": [],
   "source": [
    "territorios.values"
   ]
  },
  {
   "cell_type": "code",
   "execution_count": null,
   "id": "f250e003-8c56-4574-9d40-2c7acd5372b3",
   "metadata": {},
   "outputs": [],
   "source": [
    "territorios.T"
   ]
  },
  {
   "cell_type": "code",
   "execution_count": null,
   "id": "44c8d3fc-44df-4c7d-9af7-be3bfa1c5808",
   "metadata": {},
   "outputs": [],
   "source": [
    "territorios.values[0]"
   ]
  },
  {
   "cell_type": "code",
   "execution_count": null,
   "id": "04e15c50-b76b-4540-b69b-d784f43d8dbd",
   "metadata": {},
   "outputs": [],
   "source": [
    "territorios['superficie']"
   ]
  },
  {
   "cell_type": "code",
   "execution_count": null,
   "id": "81f6748e-8377-4bb0-8ff2-f7785dd9d21b",
   "metadata": {},
   "outputs": [],
   "source": [
    "territorios.iloc[:3,:2]"
   ]
  },
  {
   "cell_type": "code",
   "execution_count": null,
   "id": "8731580e-af55-48ec-a525-7d95475e7623",
   "metadata": {},
   "outputs": [],
   "source": [
    "territorios.loc[:'Santiago de Cuba', :'superficie']"
   ]
  },
  {
   "cell_type": "code",
   "execution_count": null,
   "id": "146b85b6-34be-479d-b707-adfb5819dae0",
   "metadata": {},
   "outputs": [],
   "source": [
    "territorios.loc[territorios.densidad > 100, ['población', 'densidad']]"
   ]
  },
  {
   "cell_type": "code",
   "execution_count": null,
   "id": "6ba6942b-1cc2-4bee-a0a4-320b328bbd60",
   "metadata": {},
   "outputs": [],
   "source": [
    "territorios"
   ]
  },
  {
   "cell_type": "code",
   "execution_count": null,
   "id": "392c94aa-8ac2-4cff-84b1-2773bc83b285",
   "metadata": {},
   "outputs": [],
   "source": [
    "territorios.iloc[0, 2]"
   ]
  },
  {
   "cell_type": "code",
   "execution_count": null,
   "id": "a10093f3-508d-4103-b3b2-8a449e57f6e7",
   "metadata": {},
   "outputs": [],
   "source": [
    "territorios.iloc[0, 2] = 90"
   ]
  },
  {
   "cell_type": "code",
   "execution_count": null,
   "id": "3fa9e6e5-3381-4615-ac99-2be52c5250f8",
   "metadata": {},
   "outputs": [],
   "source": [
    "territorios"
   ]
  },
  {
   "cell_type": "code",
   "execution_count": null,
   "id": "a8eb0ef7-d839-4243-aabb-dda0595cb179",
   "metadata": {},
   "outputs": [],
   "source": [
    "territorios[territorios.densidad > 100]"
   ]
  },
  {
   "cell_type": "code",
   "execution_count": null,
   "id": "19cbdfcb-4ddb-4f86-b883-8b4c92b9ff41",
   "metadata": {},
   "outputs": [],
   "source": [
    "territorios.densidad > 100"
   ]
  },
  {
   "cell_type": "markdown",
   "id": "bcf3a8da-0747-4c4f-a8f3-edb604333812",
   "metadata": {},
   "source": [
    "## Operando sobre datos"
   ]
  },
  {
   "cell_type": "code",
   "execution_count": null,
   "id": "032a7d6c-17c5-4734-8f5b-cb2f4b894601",
   "metadata": {},
   "outputs": [],
   "source": [
    "ran = np.random.RandomState(42)\n",
    "ser = pd.Series(ran.randint(0, 10, 4))\n",
    "ser"
   ]
  },
  {
   "cell_type": "code",
   "execution_count": null,
   "id": "9498736b-9456-4ad7-9f5c-86fa79bf04f8",
   "metadata": {},
   "outputs": [],
   "source": [
    "df = pd.DataFrame(ran.randint(0, 10, (3,4)),\n",
    "                  columns=['A', 'B', 'C', 'D'])\n",
    "df"
   ]
  },
  {
   "cell_type": "code",
   "execution_count": null,
   "id": "cb157782-250e-4654-acf2-9ff9a44fe792",
   "metadata": {},
   "outputs": [],
   "source": [
    "np.exp(ser)"
   ]
  },
  {
   "cell_type": "code",
   "execution_count": null,
   "id": "259b9993-12bb-4849-a64a-3eab4c76ac35",
   "metadata": {},
   "outputs": [],
   "source": [
    "np.sin(df * np.pi / 4)"
   ]
  },
  {
   "cell_type": "code",
   "execution_count": null,
   "id": "a7f1aeb1-59fb-4ef8-9d63-c72e96e55612",
   "metadata": {},
   "outputs": [],
   "source": [
    "superficie = pd.Series({\n",
    "    'Alaska': 1723337, \n",
    "    'Texas': 695662,\n",
    "    'California': 423967\n",
    "}, name='superficie')\n",
    "\n",
    "población = pd.Series({\n",
    "    'California': 38332521, \n",
    "    'Texas': 26448193,\n",
    "    'New York': 19651127\n",
    "}, name='población')"
   ]
  },
  {
   "cell_type": "code",
   "execution_count": null,
   "id": "764f8579-8658-4f7f-8fbb-123a683fbb70",
   "metadata": {},
   "outputs": [],
   "source": [
    "población / superficie"
   ]
  },
  {
   "cell_type": "code",
   "execution_count": null,
   "id": "345acaf1-aecf-4dd7-9974-bbd0ffc5c7d1",
   "metadata": {},
   "outputs": [],
   "source": [
    "A = pd.Series([2, 4, 6], index=[0, 1, 2])\n",
    "B = pd.Series([1, 3, 5], index=[1, 2, 3])\n",
    "A + B"
   ]
  },
  {
   "cell_type": "code",
   "execution_count": null,
   "id": "d1ada94b-6e71-4960-8fda-fe7c82da788e",
   "metadata": {},
   "outputs": [],
   "source": [
    "A.add(B, fill_value=0)"
   ]
  },
  {
   "cell_type": "code",
   "execution_count": null,
   "id": "045cdd69-4f1f-4acb-b990-60d05c573210",
   "metadata": {},
   "outputs": [],
   "source": [
    "A = pd.DataFrame(ran.randint(0, 20, (2,2)),\n",
    "                 columns=list('AB'))\n",
    "A"
   ]
  },
  {
   "cell_type": "code",
   "execution_count": null,
   "id": "fcc09a89-62c7-4b7d-9e71-55a2be0035dc",
   "metadata": {},
   "outputs": [],
   "source": [
    "B = pd.DataFrame(ran.randint(0, 10, (3,3)),\n",
    "                 columns=list('BAC'))\n",
    "B"
   ]
  },
  {
   "cell_type": "code",
   "execution_count": null,
   "id": "8ab2a83a-9d6a-40b5-ab78-5f20424e7dce",
   "metadata": {},
   "outputs": [],
   "source": [
    "A + B"
   ]
  },
  {
   "cell_type": "code",
   "execution_count": null,
   "id": "610e6115-4815-43ec-9fc8-5f4183ddb7ae",
   "metadata": {},
   "outputs": [],
   "source": [
    "A"
   ]
  },
  {
   "cell_type": "code",
   "execution_count": null,
   "id": "86e924e6-0daf-43e1-924a-34ff332f02dc",
   "metadata": {},
   "outputs": [],
   "source": [
    "A.stack()"
   ]
  },
  {
   "cell_type": "code",
   "execution_count": null,
   "id": "96fdcfbe-7a61-46e9-b8cb-9384b4fd65f5",
   "metadata": {},
   "outputs": [],
   "source": [
    "A.stack().mean()"
   ]
  },
  {
   "cell_type": "code",
   "execution_count": null,
   "id": "664b9011-226a-4232-8e8b-790f911ca600",
   "metadata": {},
   "outputs": [],
   "source": [
    "fill = A.stack().mean()"
   ]
  },
  {
   "cell_type": "code",
   "execution_count": null,
   "id": "b0e4bc4c-72b7-4726-ac8f-39d856027ca0",
   "metadata": {},
   "outputs": [],
   "source": [
    "A.add(B, fill_value=fill)"
   ]
  },
  {
   "cell_type": "code",
   "execution_count": null,
   "id": "6bd5661d-e0d9-487e-a005-c153564b8ec4",
   "metadata": {},
   "outputs": [],
   "source": [
    "A = ran.randint(10, size=(3,4))\n",
    "A"
   ]
  },
  {
   "cell_type": "code",
   "execution_count": null,
   "id": "ffd2b5bd-7823-491a-ab64-c61b42a884ef",
   "metadata": {},
   "outputs": [],
   "source": [
    "df = pd.DataFrame(A, columns=list('QRST'))\n",
    "df"
   ]
  },
  {
   "cell_type": "code",
   "execution_count": null,
   "id": "843539f5-ee12-4260-9875-d8fd34c0cf51",
   "metadata": {},
   "outputs": [],
   "source": [
    "df - df.iloc[0]"
   ]
  },
  {
   "cell_type": "code",
   "execution_count": null,
   "id": "ef1c7895-9987-4995-a8d0-3cda948920c4",
   "metadata": {},
   "outputs": [],
   "source": [
    "df"
   ]
  },
  {
   "cell_type": "code",
   "execution_count": null,
   "id": "e142e0a8-567b-49ea-b124-187f14772e5c",
   "metadata": {},
   "outputs": [],
   "source": [
    "df.subtract(df['R'], axis=0)"
   ]
  },
  {
   "cell_type": "code",
   "execution_count": null,
   "id": "8c6b6b69-ed15-42ab-97f1-01f9c4d740b2",
   "metadata": {},
   "outputs": [],
   "source": [
    "df.subtract(df['R'], axis='rows')"
   ]
  },
  {
   "cell_type": "code",
   "execution_count": null,
   "id": "cc795f61-d997-4ca5-a5ed-0fe6593fc283",
   "metadata": {},
   "outputs": [],
   "source": [
    "df"
   ]
  },
  {
   "cell_type": "code",
   "execution_count": null,
   "id": "e478f2ab-96de-488c-8a7f-2e95ce2ca4a4",
   "metadata": {},
   "outputs": [],
   "source": [
    "halfrow = df.iloc[0, ::2]\n",
    "halfrow"
   ]
  },
  {
   "cell_type": "code",
   "execution_count": null,
   "id": "3367300b-9640-445c-bb5c-7b5768e43a8f",
   "metadata": {},
   "outputs": [],
   "source": [
    "df - halfrow"
   ]
  },
  {
   "cell_type": "markdown",
   "id": "bdb951d3-cadb-49e4-a50a-0159a4567ee3",
   "metadata": {},
   "source": [
    "## Manejo de datos faltantes"
   ]
  },
  {
   "cell_type": "code",
   "execution_count": null,
   "id": "590df058-a097-49c9-9d72-ac5b58223564",
   "metadata": {},
   "outputs": [],
   "source": [
    "vals1 = np.array([1, None, 3, 4])\n",
    "vals1"
   ]
  },
  {
   "cell_type": "code",
   "execution_count": null,
   "id": "e68aa48c-ae6e-43e0-abcb-fd91a5103492",
   "metadata": {},
   "outputs": [],
   "source": [
    "for dtype in ['object', 'int']:\n",
    "    print('dtype =', dtype)\n",
    "    %timeit np.arange(1e6, dtype=dtype).sum()\n",
    "    print()"
   ]
  },
  {
   "cell_type": "code",
   "execution_count": null,
   "id": "69a66fed-88fd-45ef-b64d-c2a109c8a5a3",
   "metadata": {},
   "outputs": [],
   "source": [
    "vals1"
   ]
  },
  {
   "cell_type": "code",
   "execution_count": null,
   "id": "f1482392-bb45-4307-8891-4e82d911738a",
   "metadata": {},
   "outputs": [],
   "source": [
    "vals1.sum()"
   ]
  },
  {
   "cell_type": "code",
   "execution_count": null,
   "id": "fc0cbb5e-ee5f-4a96-bb1e-8883313ffa2a",
   "metadata": {},
   "outputs": [],
   "source": [
    "vals2 = np.array([1, np.nan, 3, 4])\n",
    "vals2"
   ]
  },
  {
   "cell_type": "code",
   "execution_count": null,
   "id": "408ccca3-38a1-417d-a303-feb925494ca1",
   "metadata": {},
   "outputs": [],
   "source": [
    "vals2.dtype"
   ]
  },
  {
   "cell_type": "code",
   "execution_count": null,
   "id": "5bd71383-6da0-4954-9945-a5dd345e8e83",
   "metadata": {},
   "outputs": [],
   "source": [
    "1 + np.nan"
   ]
  },
  {
   "cell_type": "code",
   "execution_count": null,
   "id": "effb8a8d-b788-4eb0-b8eb-52af18eb2a36",
   "metadata": {},
   "outputs": [],
   "source": [
    "0 * np.nan"
   ]
  },
  {
   "cell_type": "code",
   "execution_count": null,
   "id": "bb686b63-fe58-416f-a680-f4fde8890a42",
   "metadata": {},
   "outputs": [],
   "source": [
    "vals2.sum()"
   ]
  },
  {
   "cell_type": "code",
   "execution_count": null,
   "id": "a9387bac-9cd1-4582-ba2c-48f0a9b295b6",
   "metadata": {},
   "outputs": [],
   "source": [
    "vals2.min()"
   ]
  },
  {
   "cell_type": "code",
   "execution_count": null,
   "id": "510cbc90-6bc7-4d55-9838-d603dbede591",
   "metadata": {},
   "outputs": [],
   "source": [
    "vals2.max()"
   ]
  },
  {
   "cell_type": "code",
   "execution_count": null,
   "id": "ba730c9d-c031-4759-96d2-5ac4c46f47ea",
   "metadata": {},
   "outputs": [],
   "source": [
    "np.nansum(vals2)"
   ]
  },
  {
   "cell_type": "code",
   "execution_count": null,
   "id": "fbdbbcc1-ba3e-49dc-a545-de6582b1462d",
   "metadata": {},
   "outputs": [],
   "source": [
    "np.nanmin(vals2)"
   ]
  },
  {
   "cell_type": "code",
   "execution_count": null,
   "id": "120fa974-d06c-4592-9399-7bea4a7c7565",
   "metadata": {},
   "outputs": [],
   "source": [
    "np.nanmax(vals2)"
   ]
  },
  {
   "cell_type": "code",
   "execution_count": null,
   "id": "6d6896d9-529a-4fd2-a790-ec2f9fdd088a",
   "metadata": {},
   "outputs": [],
   "source": [
    "pd.Series([1, np.nan, 2, None])"
   ]
  },
  {
   "cell_type": "code",
   "execution_count": null,
   "id": "86f0fad6-afdf-4368-8e43-ccca5daf2bd2",
   "metadata": {},
   "outputs": [],
   "source": [
    "x = pd.Series(range(2), dtype=int)\n",
    "x"
   ]
  },
  {
   "cell_type": "code",
   "execution_count": null,
   "id": "4d3c9a37-41f1-4322-a83a-31ea52f1e352",
   "metadata": {},
   "outputs": [],
   "source": [
    "x[0] = None"
   ]
  },
  {
   "cell_type": "code",
   "execution_count": null,
   "id": "6f55cda3-382a-46c8-86b1-a920d7a216d6",
   "metadata": {},
   "outputs": [],
   "source": [
    "x"
   ]
  },
  {
   "cell_type": "markdown",
   "id": "6c5a7f00-d9a8-4ad4-aca9-b1c684409715",
   "metadata": {},
   "source": [
    "**Problema 4:** Investiga las operaciones `isnull`, `notnull`, `dropna` y `fillna` de Pandas, así como el valor `pd.NA`. Puedes apoyarte de [la documentación](https://pandas.pydata.org/docs/user_guide/missing_data.html)"
   ]
  },
  {
   "cell_type": "markdown",
   "id": "e64ddc96-32c2-4b54-b12d-598ed04906a1",
   "metadata": {},
   "source": [
    "---\n",
    "\n",
    "**Problema 5:** Pandas incluye funciones para la lectura de archivos CSV o Excel. Consulta los sitios de datos abiertos de algúna institución pública o gubernamental, descarga un dataset en formato CSV, otro en Excel y carga los datos en un DataFrame de Pandas. El DataFrame resultante debe tener asociada a cada columna el tipo de dato adecuado para trabajar."
   ]
  }
 ],
 "metadata": {
  "kernelspec": {
   "display_name": "Python 3 (ipykernel)",
   "language": "python",
   "name": "python3"
  },
  "language_info": {
   "codemirror_mode": {
    "name": "ipython",
    "version": 3
   },
   "file_extension": ".py",
   "mimetype": "text/x-python",
   "name": "python",
   "nbconvert_exporter": "python",
   "pygments_lexer": "ipython3",
   "version": "3.10.12"
  }
 },
 "nbformat": 4,
 "nbformat_minor": 5
}
