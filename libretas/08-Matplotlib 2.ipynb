{
 "cells": [
  {
   "cell_type": "code",
   "execution_count": null,
   "id": "9a8bb0d9-64f3-42e4-b247-31ff4f7296ac",
   "metadata": {},
   "outputs": [],
   "source": [
    "import matplotlib as mpl\n",
    "import matplotlib.pyplot as plt\n",
    "import numpy as np\n",
    "import pandas as pd\n",
    "import seaborn as sns\n",
    "from sklearn.datasets import load_iris, load_breast_cancer"
   ]
  },
  {
   "cell_type": "code",
   "execution_count": null,
   "id": "a755c439-6673-4268-a101-96bb49f7fbea",
   "metadata": {},
   "outputs": [],
   "source": [
    "sns.set_theme(style='whitegrid')"
   ]
  },
  {
   "cell_type": "code",
   "execution_count": null,
   "id": "34d317e7-7fab-46e7-8b61-c5881596a1d3",
   "metadata": {},
   "outputs": [],
   "source": [
    "iris_dataset = load_iris(as_frame=True)\n",
    "cancer_dataset = load_breast_cancer(as_frame=True)"
   ]
  },
  {
   "cell_type": "code",
   "execution_count": null,
   "id": "b31be789-0b3c-4d93-a376-ea69dfbc98d9",
   "metadata": {},
   "outputs": [],
   "source": [
    "iris = iris_dataset.data\n",
    "cancer = cancer_dataset.data"
   ]
  },
  {
   "cell_type": "code",
   "execution_count": null,
   "id": "037c8030-d6ee-435a-b44d-602645370c5d",
   "metadata": {},
   "outputs": [],
   "source": [
    "iris"
   ]
  },
  {
   "cell_type": "code",
   "execution_count": null,
   "id": "5b87fd5b-1b9a-48d8-8dbb-4b4e25522696",
   "metadata": {},
   "outputs": [],
   "source": [
    "cancer"
   ]
  },
  {
   "cell_type": "code",
   "execution_count": null,
   "id": "0dae4d76-7a5c-4acd-8e62-53bb740c499b",
   "metadata": {},
   "outputs": [],
   "source": [
    "set(iris_dataset.target)"
   ]
  },
  {
   "cell_type": "code",
   "execution_count": null,
   "id": "9fa7ffd2-7cc0-4a9f-b854-a2decff353ea",
   "metadata": {},
   "outputs": [],
   "source": [
    "iris_dataset.target_names"
   ]
  },
  {
   "cell_type": "code",
   "execution_count": null,
   "id": "f404bea0-9971-46af-8fb9-c1c7b2072230",
   "metadata": {},
   "outputs": [],
   "source": [
    "iris['target'] = [\n",
    "    iris_dataset.target_names[i]\n",
    "    for i in iris_dataset.target\n",
    "]\n",
    "\n",
    "cancer['target'] = [\n",
    "    cancer_dataset.target_names[i]\n",
    "    for i in cancer_dataset.target\n",
    "]"
   ]
  },
  {
   "cell_type": "code",
   "execution_count": null,
   "id": "22a500c5-27c3-494b-9a1d-ae504e87bf38",
   "metadata": {},
   "outputs": [],
   "source": [
    "iris"
   ]
  },
  {
   "cell_type": "code",
   "execution_count": null,
   "id": "bd2e1ac8-9974-4f42-92f4-06deace0cc25",
   "metadata": {},
   "outputs": [],
   "source": [
    "cancer"
   ]
  },
  {
   "cell_type": "markdown",
   "id": "5b22cb64-0c18-4665-8b2c-530658fa87dc",
   "metadata": {},
   "source": [
    "# Gráficas de barras"
   ]
  },
  {
   "cell_type": "code",
   "execution_count": null,
   "id": "c457511b-952d-4195-8d3f-861e12198791",
   "metadata": {},
   "outputs": [],
   "source": [
    "fig = plt.figure()\n",
    "ax = plt.axes()\n",
    "\n",
    "ax.hist(\n",
    "    iris['sepal length (cm)'],\n",
    "    bins=15,\n",
    "    density=True,\n",
    "    histtype='stepfilled',\n",
    "    edgecolor='none',\n",
    ");"
   ]
  },
  {
   "cell_type": "code",
   "execution_count": null,
   "id": "d836838b-1bb6-41ca-9f7c-a30866a580cd",
   "metadata": {},
   "outputs": [],
   "source": [
    "fig = plt.figure()\n",
    "ax = plt.axes()\n",
    "\n",
    "ax.hist(\n",
    "    iris[['sepal length (cm)', 'sepal width (cm)']],\n",
    "    bins=20,\n",
    "    density=True,\n",
    "    histtype='stepfilled',\n",
    "    alpha=0.8,\n",
    "    edgecolor='none',\n",
    ");"
   ]
  },
  {
   "cell_type": "code",
   "execution_count": null,
   "id": "5f9c446a-ff17-4501-b7f9-d5235f921cd1",
   "metadata": {},
   "outputs": [],
   "source": [
    "fig = plt.figure()\n",
    "ax = plt.axes()\n",
    "\n",
    "ax.hist(\n",
    "    iris[['petal length (cm)', 'petal width (cm)']],\n",
    "    bins=20,\n",
    "    density=True,\n",
    "    histtype='bar',\n",
    "    edgecolor='none',\n",
    ");"
   ]
  },
  {
   "cell_type": "code",
   "execution_count": null,
   "id": "dd36f5b5-49ca-4efd-98d6-6d8b97ddda59",
   "metadata": {},
   "outputs": [],
   "source": [
    "fig = plt.figure()\n",
    "ax = plt.axes()\n",
    "\n",
    "for col in iris.columns:\n",
    "    if col == 'target':\n",
    "        continue\n",
    "    ax.hist(iris[col], bins=20, histtype='stepfilled', alpha=0.75, density=True, label=col);\n",
    "    \n",
    "ax.legend();"
   ]
  },
  {
   "cell_type": "code",
   "execution_count": null,
   "id": "b18e0e00-43aa-4260-873e-3369dd6692e4",
   "metadata": {},
   "outputs": [],
   "source": [
    "fig = plt.figure()\n",
    "ax = plt.axes()\n",
    "\n",
    "cols = [col for col in iris.columns if col != 'target']\n",
    "ax.hist(iris[cols], bins=20, histtype='stepfilled', alpha=0.75, density=True, label=cols);\n",
    "    \n",
    "ax.legend();"
   ]
  },
  {
   "cell_type": "code",
   "execution_count": null,
   "id": "e7a6b213-3179-4e9b-ac35-e1eee2342385",
   "metadata": {},
   "outputs": [],
   "source": [
    "fig = plt.figure()\n",
    "ax = plt.axes()\n",
    "\n",
    "ax.hist([1, 2, 3, 4, 6], weights=[64, 32, 16, 8, 2], align='mid');"
   ]
  },
  {
   "cell_type": "code",
   "execution_count": null,
   "id": "d92e2f75-accf-4609-96ba-3253484150f2",
   "metadata": {},
   "outputs": [],
   "source": [
    "fig = plt.figure()\n",
    "ax = plt.axes()\n",
    "\n",
    "ax.bar([1, 2, 3, 4, 6], height=[64, 32, 16, 8, 2], align='center');"
   ]
  },
  {
   "cell_type": "code",
   "execution_count": null,
   "id": "78eb2d75-44f0-4f2a-9bbf-67aac0f742a4",
   "metadata": {},
   "outputs": [],
   "source": [
    "ax.hist?"
   ]
  },
  {
   "cell_type": "code",
   "execution_count": null,
   "id": "319c9b39-e664-4012-b0c6-84e2846cb414",
   "metadata": {},
   "outputs": [],
   "source": [
    "ax.bar?"
   ]
  },
  {
   "cell_type": "code",
   "execution_count": null,
   "id": "26cf8861-4617-462f-b0ce-01c1fb1b19ef",
   "metadata": {},
   "outputs": [],
   "source": [
    "fig = plt.figure()\n",
    "ax = plt.axes()\n",
    "\n",
    "ax.hist(\n",
    "    cancer[['mean radius', 'mean texture']],\n",
    "    bins=50,\n",
    "    histtype='stepfilled',\n",
    "    alpha=0.75,\n",
    "    label=['mean radius', 'mean texture'],\n",
    ");\n",
    "    \n",
    "ax.legend();"
   ]
  },
  {
   "cell_type": "code",
   "execution_count": null,
   "id": "3295ae7a-8e5b-467f-8d93-4144ab3197ad",
   "metadata": {},
   "outputs": [],
   "source": [
    "fig = plt.figure()\n",
    "ax = plt.axes()\n",
    "\n",
    "_, _, _, m = ax.hist2d(\n",
    "    cancer['mean radius'],\n",
    "    cancer['mean texture'],\n",
    "    bins=30,\n",
    "    cmap='Blues',\n",
    ");\n",
    "\n",
    "fig.colorbar(m);"
   ]
  },
  {
   "cell_type": "code",
   "execution_count": null,
   "id": "4fc56932-ae18-4961-b77a-278034684d37",
   "metadata": {},
   "outputs": [],
   "source": [
    "ax.hist2d?"
   ]
  },
  {
   "cell_type": "markdown",
   "id": "588e53d0-c00f-47a5-9cc4-6f5dd60d3e1c",
   "metadata": {},
   "source": [
    "# Ticks"
   ]
  },
  {
   "cell_type": "code",
   "execution_count": null,
   "id": "3bfc8dc1-1f5a-4186-b682-0662507af79c",
   "metadata": {},
   "outputs": [],
   "source": [
    "fig = plt.figure()\n",
    "ax = plt.axes();\n",
    "\n",
    "x = np.linspace(0,6*np.pi,1000)\n",
    "y1 = np.sin(x)\n",
    "y2 = np.cos(x)\n",
    "\n",
    "ax.plot(x, y1, label='sin(x)');\n",
    "ax.plot(x, y2, '--', label='cos(x)');\n",
    "ax.legend();"
   ]
  },
  {
   "cell_type": "code",
   "execution_count": null,
   "id": "721fada2-bcd4-494d-b486-9a86b6b7b27e",
   "metadata": {},
   "outputs": [],
   "source": [
    "fig = plt.figure()\n",
    "ax = plt.axes();\n",
    "\n",
    "x = np.linspace(0,6*np.pi,1000)\n",
    "y1 = np.sin(x)\n",
    "y2 = np.cos(x)\n",
    "\n",
    "ax.plot(x, y1, label='sin(x)', lw=1.5);\n",
    "ax.plot(x, y2, '--', label='cos(x)', lw=1.5);\n",
    "\n",
    "#ax.grid(True);\n",
    "#ax.legend(loc='upper right');\n",
    "#ax.set_xlim(0, 3 * np.pi);\n",
    "\n",
    "#ax.xaxis.set_major_locator(plt.MultipleLocator(np.pi / 2));\n",
    "#ax.xaxis.set_minor_locator(plt.MultipleLocator(np.pi / 4));"
   ]
  },
  {
   "cell_type": "code",
   "execution_count": null,
   "id": "47026d67-6b29-448c-9763-788cf7ee7ac3",
   "metadata": {},
   "outputs": [],
   "source": [
    "def format_pihalfs(value, tick_number):\n",
    "    N = int(np.round(2 * value / np.pi))\n",
    "    if N == 0:\n",
    "        return \"0\"\n",
    "    if N == 1:\n",
    "        return r\"$\\pi/2$\"\n",
    "    if N == 2:\n",
    "        return r\"$\\pi$\"\n",
    "    if N % 2 > 0:\n",
    "        return r\"${}\\pi/2$\".format(N)\n",
    "    return r\"${}\\pi$\".format(N // 2)"
   ]
  },
  {
   "cell_type": "code",
   "execution_count": null,
   "id": "dce37b1f-0cdf-4183-8a73-7e717545e29f",
   "metadata": {},
   "outputs": [],
   "source": [
    "fig = plt.figure()\n",
    "ax = plt.axes();\n",
    "\n",
    "x = np.linspace(0,3 * np.pi,1000)\n",
    "y1 = np.sin(x)\n",
    "y2 = np.cos(x)\n",
    "\n",
    "ax.plot(x, y1, label='sin(x)', lw=1.5);\n",
    "ax.plot(x, y2, '--', label='cos(x)', lw=1.5);\n",
    "\n",
    "ax.grid(True);\n",
    "ax.legend(loc='upper right');\n",
    "ax.set_xlim(0, 3 * np.pi);\n",
    "\n",
    "ax.xaxis.set_major_locator(plt.MultipleLocator(np.pi / 2));\n",
    "ax.xaxis.set_minor_locator(plt.MultipleLocator(np.pi / 4));\n",
    "ax.xaxis.set_major_formatter(plt.FuncFormatter(format_pihalfs));\n",
    "ax.xaxis.set_minor_formatter(plt.ScalarFormatter());"
   ]
  },
  {
   "cell_type": "code",
   "execution_count": null,
   "id": "4041d20e-3081-4010-bd9d-1c6b60db69c1",
   "metadata": {},
   "outputs": [],
   "source": [
    "mpl.ticker?"
   ]
  },
  {
   "cell_type": "code",
   "execution_count": null,
   "id": "bdf1e0df-ee19-419e-a93e-f53afd4acfef",
   "metadata": {},
   "outputs": [],
   "source": [
    "fig = plt.figure()\n",
    "ax = plt.axes();\n",
    "\n",
    "x = np.linspace(0,3 * np.pi,1000)\n",
    "y1 = np.sin(x)\n",
    "y2 = np.cos(x)\n",
    "\n",
    "ax.plot(x, y1, label='sin(x)', lw=1.5);\n",
    "ax.plot(x, y2, '--', label='cos(x)', lw=1.5);\n",
    "\n",
    "ax.grid(True);\n",
    "ax.legend(loc='upper right');\n",
    "ax.set_xlim(0, 3 * np.pi);\n",
    "\n",
    "ax.xaxis.set_major_locator(plt.MultipleLocator(np.pi / 2));\n",
    "ax.xaxis.set_minor_locator(plt.MultipleLocator(np.pi / 4));\n",
    "ax.xaxis.set_major_formatter(plt.FuncFormatter(format_pihalfs));\n",
    "ax.xaxis.set_minor_formatter(plt.ScalarFormatter());"
   ]
  },
  {
   "cell_type": "code",
   "execution_count": null,
   "id": "a13b8380-17fa-4cc1-a7f6-40bc07640e82",
   "metadata": {},
   "outputs": [],
   "source": [
    "x = 1000 * np.random.gamma(1.0, 0.5, 200)\n",
    "y = 1000 * np.random.gamma(0.9, 0.6, 200)"
   ]
  },
  {
   "cell_type": "code",
   "execution_count": null,
   "id": "b0baa560-59e4-4315-8f1c-83967fa8fab3",
   "metadata": {},
   "outputs": [],
   "source": [
    "fig = plt.figure()\n",
    "ax = plt.axes()\n",
    "ax.hist(np.random.gamma(2.0, 0.5, 5000), bins=50, histtype='stepfilled');"
   ]
  },
  {
   "cell_type": "code",
   "execution_count": null,
   "id": "31fd34f4-fcd3-4172-9e00-317eea669edb",
   "metadata": {},
   "outputs": [],
   "source": [
    "fig = plt.figure()\n",
    "ax = plt.axes()\n",
    "ax.autoscale(enable=True, axis='both', tight=True);\n",
    "\n",
    "ax.scatter(x, y, s=5);"
   ]
  },
  {
   "cell_type": "code",
   "execution_count": null,
   "id": "607c709a-a3fc-4be2-8680-800a6afed5c4",
   "metadata": {},
   "outputs": [],
   "source": [
    "fig = plt.figure()\n",
    "ax = plt.axes(xscale='log')\n",
    "ax.autoscale(enable=True, axis='both', tight=True)\n",
    "\n",
    "ax.scatter(x, y, s=5);"
   ]
  },
  {
   "cell_type": "code",
   "execution_count": null,
   "id": "8b03b944-8b93-471d-a051-2261e3b361d7",
   "metadata": {},
   "outputs": [],
   "source": [
    "fig = plt.figure()\n",
    "ax = plt.axes(xscale='log', yscale='log')\n",
    "ax.autoscale(enable=True, axis='both', tight=True)\n",
    "\n",
    "ax.scatter(x, y, s=5);"
   ]
  },
  {
   "cell_type": "code",
   "execution_count": null,
   "id": "a3ca9332-da8d-438f-99a7-f57662ce63a7",
   "metadata": {},
   "outputs": [],
   "source": [
    "fig = plt.figure()\n",
    "ax = plt.axes(xscale='log', yscale='log')\n",
    "ax.autoscale(enable=True, axis='both', tight=True)\n",
    "\n",
    "ax.xaxis.set_major_locator(plt.LogLocator(\n",
    "    base=10.0,\n",
    "    subs=(1.0, 2.0, 3.0),\n",
    "))\n",
    "\n",
    "ax.xaxis.set_major_formatter(plt.LogFormatter(\n",
    "    base=10.0,\n",
    "    minor_thresholds=(4,4),\n",
    "))\n",
    "\n",
    "ax.scatter(x, y, s=5);"
   ]
  },
  {
   "cell_type": "code",
   "execution_count": null,
   "id": "2f655436-f01d-4979-a20b-c260be850f6e",
   "metadata": {},
   "outputs": [],
   "source": [
    "fig = plt.figure()\n",
    "ax = plt.axes(xscale='log', yscale='log')\n",
    "ax.autoscale(enable=True, axis='both', tight=True)\n",
    "\n",
    "ax.xaxis.set_major_locator(plt.LogLocator(\n",
    "    base=10.0,\n",
    "    subs=(1.0, 2.0, 3.0),\n",
    "))\n",
    "\n",
    "ax.xaxis.set_major_formatter(plt.LogFormatter(\n",
    "    base=10.0,\n",
    "    minor_thresholds=(4,4),\n",
    "))\n",
    "\n",
    "ax.xaxis.set_minor_locator(plt.MultipleLocator(500))\n",
    "ax.xaxis.set_minor_formatter(plt.ScalarFormatter())\n",
    "\n",
    "ax.scatter(x, y, s=5);"
   ]
  },
  {
   "cell_type": "code",
   "execution_count": null,
   "id": "56f58f58-c918-489a-83b2-a1db9cf0fb39",
   "metadata": {},
   "outputs": [],
   "source": [
    "ax.xaxis.offsetText"
   ]
  },
  {
   "cell_type": "code",
   "execution_count": null,
   "id": "c58f0c6e-87c0-4b3f-8b45-38834c33e341",
   "metadata": {},
   "outputs": [],
   "source": [
    "fig = plt.figure()\n",
    "ax = plt.axes(xscale='log', yscale='log')\n",
    "ax.autoscale(enable=True, axis='both', tight=True)\n",
    "\n",
    "ax.xaxis.set_major_locator(plt.LogLocator(\n",
    "    base=10.0,\n",
    "    subs=(1.0, 2.0, 3.0),\n",
    "))\n",
    "\n",
    "ax.xaxis.set_major_formatter(plt.LogFormatter(\n",
    "    base=10.0,\n",
    "    minor_thresholds=(4,4),\n",
    "))\n",
    "\n",
    "ax.xaxis.set_minor_locator(plt.MultipleLocator(500))\n",
    "ax.xaxis.set_minor_formatter(plt.ScalarFormatter())\n",
    "\n",
    "ax.scatter(x, y, s=5);\n",
    "\n",
    "ax.tick_params(axis='x', which='minor', pad=30);"
   ]
  },
  {
   "cell_type": "code",
   "execution_count": null,
   "id": "2dbe0e0c-830c-40c6-a25a-f42a5e3a6921",
   "metadata": {},
   "outputs": [],
   "source": [
    "fig = plt.figure()\n",
    "ax = plt.axes(xscale='log', yscale='log')\n",
    "ax.autoscale(enable=True, axis='both', tight=True)\n",
    "\n",
    "ax.xaxis.set_major_locator(plt.LogLocator(\n",
    "    base=10.0,\n",
    "    subs=(1.0, 2.0, 3.0),\n",
    "))\n",
    "\n",
    "ax.xaxis.set_major_formatter(plt.LogFormatter(\n",
    "    base=10.0,\n",
    "    minor_thresholds=(4,4),\n",
    "))\n",
    "\n",
    "ax.xaxis.set_minor_locator(plt.MultipleLocator(500))\n",
    "ax.xaxis.set_minor_formatter(plt.ScalarFormatter())\n",
    "\n",
    "ax.scatter(x, y, s=5);\n",
    "\n",
    "ax.tick_params(axis='x', which='both', rotation=90)\n",
    "ax.tick_params(axis='x', which='minor', labelsize=8)"
   ]
  },
  {
   "cell_type": "markdown",
   "id": "4a128dd4-0544-4492-9939-059c1017029e",
   "metadata": {},
   "source": [
    "# Seaborn"
   ]
  },
  {
   "cell_type": "code",
   "execution_count": null,
   "id": "7f4cd9b9-daf4-4618-96a4-2ca4cd313b81",
   "metadata": {},
   "outputs": [],
   "source": [
    "sns.set_theme()"
   ]
  },
  {
   "cell_type": "code",
   "execution_count": null,
   "id": "5f4f2f88-7efb-49cd-acab-2a404a2c2b38",
   "metadata": {},
   "outputs": [],
   "source": [
    "tips = sns.load_dataset(\"tips\")"
   ]
  },
  {
   "cell_type": "markdown",
   "id": "e1990b3b-0ebd-4240-8b88-4ea38df7ee9e",
   "metadata": {},
   "source": [
    "One waiter recorded information about each tip he received over a period of a few months working in one restaurant. He collected several variables:\n",
    "- tip in dollars,\n",
    "- bill in dollars,\n",
    "- sex of the bill payer,\n",
    "- whether there were smokers in the party,\n",
    "- day of the week,\n",
    "- time of day,\n",
    "- size of the party."
   ]
  },
  {
   "cell_type": "code",
   "execution_count": null,
   "id": "b1b34d34-ef10-4dc7-9436-ca95ea3834f5",
   "metadata": {},
   "outputs": [],
   "source": [
    "tips"
   ]
  },
  {
   "cell_type": "code",
   "execution_count": null,
   "id": "ea00da9f-adfc-4cc6-b199-fc8927373006",
   "metadata": {},
   "outputs": [],
   "source": [
    "sns.relplot(\n",
    "    data=tips,\n",
    "    x=\"total_bill\",\n",
    "    y=\"tip\",\n",
    "    col=\"time\",\n",
    "    hue=\"smoker\",\n",
    "    size=\"size\",\n",
    ");"
   ]
  },
  {
   "cell_type": "code",
   "execution_count": null,
   "id": "83fe5b1d-d0a8-4a5d-8887-ec7e80bd72b4",
   "metadata": {},
   "outputs": [],
   "source": [
    "sns.relplot(\n",
    "    data=iris,\n",
    "    x=\"sepal length (cm)\",\n",
    "    y=\"sepal width (cm)\",\n",
    "    col=\"target\",\n",
    "    col_wrap=2,\n",
    "    hue=\"petal length (cm)\",\n",
    "    size=\"petal width (cm)\",\n",
    ");"
   ]
  },
  {
   "cell_type": "code",
   "execution_count": null,
   "id": "99c68eec-3fec-45d3-ae55-f705cfe5c2a3",
   "metadata": {},
   "outputs": [],
   "source": [
    "dots = sns.load_dataset(\"dots\")"
   ]
  },
  {
   "cell_type": "markdown",
   "id": "d4da8327-e018-4ee6-9fc6-0187f064ddd7",
   "metadata": {},
   "source": [
    "Response of neurons in the lateral intraparietal area during a combined visual discrimination reaction time task"
   ]
  },
  {
   "cell_type": "code",
   "execution_count": null,
   "id": "7ba239b7-a91b-4316-843a-e59454b64e31",
   "metadata": {},
   "outputs": [],
   "source": [
    "dots"
   ]
  },
  {
   "cell_type": "code",
   "execution_count": null,
   "id": "e4d2c4f3-35bf-4e69-9ccd-ce3ad1b2f87f",
   "metadata": {},
   "outputs": [],
   "source": [
    "sns.relplot(\n",
    "    data=dots,\n",
    "    x=\"time\",\n",
    "    y=\"firing_rate\",\n",
    "    col=\"align\",\n",
    "    hue=\"choice\",\n",
    "    size=\"coherence\",\n",
    "    style=\"choice\",\n",
    "    kind=\"line\",\n",
    "    facet_kws={\"sharex\": False},\n",
    ");"
   ]
  },
  {
   "cell_type": "markdown",
   "id": "5a33bdee-e4e3-4fe3-b9ee-2c55283b7ce7",
   "metadata": {},
   "source": [
    "# Incidencia delictiva\n",
    "\n",
    "Datos obtenidos de https://www.gob.mx/sesnsp/acciones-y-programas/datos-abiertos-de-incidencia-delictiva?state=published"
   ]
  },
  {
   "cell_type": "code",
   "execution_count": null,
   "id": "7e875ba4-a35e-4fad-a946-21e39b63ecb9",
   "metadata": {},
   "outputs": [],
   "source": [
    "meses = ['Enero', 'Febrero', 'Marzo', 'Abril', \n",
    "         'Mayo', 'Junio', 'Julio', 'Agosto',\n",
    "         'Septiembre', 'Octubre', 'Noviembre', 'Diciembre']\n",
    "\n",
    "df = pd.read_csv(\n",
    "    './assets/IDEFC_NM_oct23.csv',\n",
    "    encoding='iso-8859-1',\n",
    "    dtype={ mes: pd.Int64Dtype() for mes in meses },\n",
    ")\n",
    "\n",
    "df = df.query(\"Entidad == 'Sonora'\")\n",
    "df"
   ]
  },
  {
   "cell_type": "code",
   "execution_count": null,
   "id": "194443a2-5ca3-40ed-88e1-26b4e79e61e9",
   "metadata": {},
   "outputs": [],
   "source": [
    "sns.relplot(\n",
    "    df,\n",
    "    x=\"Año\",\n",
    "    y=df[meses].agg('sum', axis=\"columns\").rename('Total'),\n",
    "    kind='line',\n",
    "    hue='Bien jurídico afectado',\n",
    "    errorbar=None,\n",
    "    aspect=2,\n",
    ");"
   ]
  },
  {
   "cell_type": "code",
   "execution_count": null,
   "id": "c10f3ff4-a5e7-4bea-90bd-3566f98f494a",
   "metadata": {},
   "outputs": [],
   "source": [
    "sns.relplot(\n",
    "    df,\n",
    "    x=\"Año\",\n",
    "    y=df[meses].agg('sum', axis=\"columns\").rename('Total'),\n",
    "    kind='line',\n",
    "    hue='Bien jurídico afectado',\n",
    "    estimator='sum',\n",
    "    errorbar=None,\n",
    "    aspect=2,\n",
    ");"
   ]
  },
  {
   "cell_type": "code",
   "execution_count": null,
   "id": "d3d84837-8550-477d-bd7c-6680a82ebed2",
   "metadata": {},
   "outputs": [],
   "source": [
    "df2 = df.melt(\n",
    "    id_vars=['Año', 'Bien jurídico afectado', 'Tipo de delito', 'Subtipo de delito', 'Modalidad'],\n",
    "    value_vars=meses,\n",
    "    var_name='Mes',\n",
    "    value_name='Total',\n",
    ")\n",
    "df2"
   ]
  },
  {
   "cell_type": "code",
   "execution_count": null,
   "id": "7dd7a346-41fe-4feb-86ce-fb81fb1cbd07",
   "metadata": {},
   "outputs": [],
   "source": [
    "df2['Fecha'] = pd.to_datetime(\n",
    "    df2[['Año', 'Mes']].apply(lambda s: f\"{s['Año']}/{meses.index(s['Mes'])+1}\", axis=1),\n",
    "    format=\"%Y/%m\",\n",
    ")"
   ]
  },
  {
   "cell_type": "code",
   "execution_count": null,
   "id": "61a45701-6f99-4a4e-9cac-74750aed8576",
   "metadata": {},
   "outputs": [],
   "source": [
    "sns.relplot(\n",
    "    df2,\n",
    "    x=\"Fecha\",\n",
    "    y=\"Total\",\n",
    "    kind='line',\n",
    "    hue='Bien jurídico afectado',\n",
    "    estimator='sum',\n",
    "    errorbar=None,\n",
    "    aspect=2,\n",
    ");"
   ]
  }
 ],
 "metadata": {
  "kernelspec": {
   "display_name": "Python 3 (ipykernel)",
   "language": "python",
   "name": "python3"
  },
  "language_info": {
   "codemirror_mode": {
    "name": "ipython",
    "version": 3
   },
   "file_extension": ".py",
   "mimetype": "text/x-python",
   "name": "python",
   "nbconvert_exporter": "python",
   "pygments_lexer": "ipython3",
   "version": "3.11.6"
  }
 },
 "nbformat": 4,
 "nbformat_minor": 5
}
