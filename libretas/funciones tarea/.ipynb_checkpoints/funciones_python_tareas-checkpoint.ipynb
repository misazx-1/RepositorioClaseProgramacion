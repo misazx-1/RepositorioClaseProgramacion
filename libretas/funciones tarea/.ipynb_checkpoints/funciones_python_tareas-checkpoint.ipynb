{
 "cells": [
  {
   "cell_type": "code",
   "execution_count": 21,
   "id": "fe51560f-859c-4a91-aeb9-060ace862883",
   "metadata": {},
   "outputs": [
    {
     "data": {
      "text/plain": [
       "True"
      ]
     },
     "execution_count": 21,
     "metadata": {},
     "output_type": "execute_result"
    }
   ],
   "source": [
    "def cadena_es_digito(a):\n",
    "    return True if (len(a) == 1 and a in ['0','1','2','3','4','5','6','7','8','9']) else False\n",
    "\n",
    "\n",
    "cadena_es_digito('9')"
   ]
  },
  {
   "cell_type": "code",
   "execution_count": 24,
   "id": "58bc93e8-59f6-4963-b4a2-7d90cd2e6e23",
   "metadata": {},
   "outputs": [
    {
     "data": {
      "text/plain": [
       "True"
      ]
     },
     "execution_count": 24,
     "metadata": {},
     "output_type": "execute_result"
    }
   ],
   "source": [
    "def cadena_es_de_digitos(a):\n",
    "    return True if cadena_es_digito(a) else (cadena_es_digito(a[1]) and cadena_es_de_digitos(a[1:]))\n",
    "\n",
    "cadena_es_de_digitos('1234')"
   ]
  },
  {
   "cell_type": "code",
   "execution_count": 137,
   "id": "51c65650-05b5-441e-97aa-7f9a074cbeee",
   "metadata": {},
   "outputs": [],
   "source": [
    "import random as r\n",
    "def digito_random():\n",
    "    return r.choice(['0','1','2','3','4','5','6','7','8','9'])"
   ]
  },
  {
   "cell_type": "code",
   "execution_count": 138,
   "id": "2e86eab8-0cb2-436a-bc04-391c27b34c0d",
   "metadata": {},
   "outputs": [],
   "source": [
    "def cadena_digitos_random(n):\n",
    "    # t = ''\n",
    "    # for i in range(n):\n",
    "    #     t = t +str(digito_random())\n",
    "    # return t;\n",
    "    return digito_random() if n == 1 else digito_random()+cadena_digitos_random(n-1)\n",
    "    "
   ]
  },
  {
   "cell_type": "code",
   "execution_count": 42,
   "id": "7ec18952-d8f6-40d7-83ce-f1a31a99cbe8",
   "metadata": {},
   "outputs": [
    {
     "name": "stdout",
     "output_type": "stream",
     "text": [
      "3\n"
     ]
    }
   ],
   "source": [
    "def distancia_hamming(a,b):\n",
    "    # distancia = 0\n",
    "    # if len(a) == len(b):\n",
    "    #     for i in range(len(a)):\n",
    "    #         if a[i] != b[i]:\n",
    "    #             distancia = distancia +1\n",
    "    #     return distancia\n",
    "    # else:\n",
    "    #     return 0\n",
    "    assert len(a) == len(b), 'no son del mismo tamaño'\n",
    "    if len(a) == 0:\n",
    "        return 0\n",
    "    else:\n",
    "        return distancia_hamming(a[1:],b[1:]) if a[0] == b[0] else 1 + distancia_hamming(a[1:],b[1:])\n",
    "\n",
    "print(distancia_hamming('123110','132116'))            "
   ]
  },
  {
   "cell_type": "code",
   "execution_count": 64,
   "id": "daf9b217-ac58-4e79-9f50-a9ada8135808",
   "metadata": {},
   "outputs": [
    {
     "data": {
      "text/plain": [
       "'050000'"
      ]
     },
     "execution_count": 64,
     "metadata": {},
     "output_type": "execute_result"
    }
   ],
   "source": [
    "def cadena_digito_cambiado_random(a):\n",
    "    assert cadena_es_de_digitos(a), 'no es de digitos'\n",
    "    posicion_a_cambiar = r.choice(range(len(a)))\n",
    "    return a[0:posicion_a_cambiar] + digito_random() + a[posicion_a_cambiar+1:]\n",
    "\n",
    "\n",
    "cadena_digito_cambiado_random('000000')\n",
    "    "
   ]
  },
  {
   "cell_type": "code",
   "execution_count": 155,
   "id": "ac47e5f0-27d0-4db5-b7a6-1d069f61ce3b",
   "metadata": {},
   "outputs": [],
   "source": [
    "def cadena_2_digitos_cambiados_random(a):\n",
    "    assert cadena_es_de_digitos(a), 'no es de digitos'\n",
    "    assert len(a) > 1, 'longitud debe ser mayor a 1'\n",
    "\n",
    "    print(list(range(len(a))))\n",
    "    posiciones = list(range(len(a)))\n",
    "    posicion1 = r.choice(posiciones) #seleccionamos una posicion a cambiar\n",
    "        \n",
    "    posiciones.remove(posicion1)\n",
    "    posicion2 = r.choice(posiciones) #seleccionamos otra posicion a cambiar\n",
    "\n",
    "    \n",
    "    return (\n",
    "        a[0:posicion1] + digito_random() + a[posicion1+1:posicion2] + digito_random() + a[posicion2+1:] if posicion1 < posicion2 else a[0:posicion2] + digito_random() + a[posicion2+1:posicion1] + digito_random() + a[posicion1+1:]\n",
    "    )\n",
    "    \n",
    "\n",
    "        \n",
    "        \n"
   ]
  },
  {
   "cell_type": "code",
   "execution_count": 200,
   "id": "84022c54-23ea-40ed-98de-468031f5c28e",
   "metadata": {},
   "outputs": [],
   "source": [
    "def cadena_n_digitos_cambiados_random(a, n, no_cambiables = []):\n",
    "    assert cadena_es_de_digitos(a), 'no es de digitos'\n",
    "    assert n > 0, 'n debe ser mayor a 0'\n",
    "    assert n <= len(a), 'n debe ser menor que la longitud de a'\n",
    "    \n",
    "    posicion = r.choice(list(set(list(range(len(a)))) - set(no_cambiables))) #seleccionar digito sin seleccionar uno no cambiable\n",
    "\n",
    "    no_cambiables.append(posicion)\n",
    "    print('diito')\n",
    "    return(\n",
    "        a[0:posicion]+digito_random()+a[posicion+1:] if n == 1 \n",
    "        else cadena_n_digitos_cambiados_random(a[0:posicion]+digito_random()+a[posicion+1:], n = n - 1, no_cambiables = no_cambiables)\n",
    "    )\n",
    "        \n",
    "\n"
   ]
  },
  {
   "cell_type": "code",
   "execution_count": 203,
   "id": "0c586a2d-f7ba-4aad-85b0-0c960332800f",
   "metadata": {},
   "outputs": [
    {
     "ename": "IndexError",
     "evalue": "list index out of range",
     "output_type": "error",
     "traceback": [
      "\u001b[0;31m---------------------------------------------------------------------------\u001b[0m",
      "\u001b[0;31mIndexError\u001b[0m                                Traceback (most recent call last)",
      "Cell \u001b[0;32mIn[203], line 1\u001b[0m\n\u001b[0;32m----> 1\u001b[0m \u001b[43mcadena_n_digitos_cambiados_random\u001b[49m\u001b[43m(\u001b[49m\u001b[38;5;124;43m'\u001b[39;49m\u001b[38;5;124;43m11\u001b[39;49m\u001b[38;5;124;43m'\u001b[39;49m\u001b[43m,\u001b[49m\u001b[38;5;241;43m2\u001b[39;49m\u001b[43m)\u001b[49m\n",
      "Cell \u001b[0;32mIn[200], line 6\u001b[0m, in \u001b[0;36mcadena_n_digitos_cambiados_random\u001b[0;34m(a, n, no_cambiables)\u001b[0m\n\u001b[1;32m      3\u001b[0m \u001b[38;5;28;01massert\u001b[39;00m n \u001b[38;5;241m>\u001b[39m \u001b[38;5;241m0\u001b[39m, \u001b[38;5;124m'\u001b[39m\u001b[38;5;124mn debe ser mayor a 0\u001b[39m\u001b[38;5;124m'\u001b[39m\n\u001b[1;32m      4\u001b[0m \u001b[38;5;28;01massert\u001b[39;00m n \u001b[38;5;241m<\u001b[39m\u001b[38;5;241m=\u001b[39m \u001b[38;5;28mlen\u001b[39m(a), \u001b[38;5;124m'\u001b[39m\u001b[38;5;124mn debe ser menor que la longitud de a\u001b[39m\u001b[38;5;124m'\u001b[39m\n\u001b[0;32m----> 6\u001b[0m posicion \u001b[38;5;241m=\u001b[39m \u001b[43mr\u001b[49m\u001b[38;5;241;43m.\u001b[39;49m\u001b[43mchoice\u001b[49m\u001b[43m(\u001b[49m\u001b[38;5;28;43mlist\u001b[39;49m\u001b[43m(\u001b[49m\u001b[38;5;28;43mset\u001b[39;49m\u001b[43m(\u001b[49m\u001b[38;5;28;43mlist\u001b[39;49m\u001b[43m(\u001b[49m\u001b[38;5;28;43mrange\u001b[39;49m\u001b[43m(\u001b[49m\u001b[38;5;28;43mlen\u001b[39;49m\u001b[43m(\u001b[49m\u001b[43ma\u001b[49m\u001b[43m)\u001b[49m\u001b[43m)\u001b[49m\u001b[43m)\u001b[49m\u001b[43m)\u001b[49m\u001b[43m \u001b[49m\u001b[38;5;241;43m-\u001b[39;49m\u001b[43m \u001b[49m\u001b[38;5;28;43mset\u001b[39;49m\u001b[43m(\u001b[49m\u001b[43mno_cambiables\u001b[49m\u001b[43m)\u001b[49m\u001b[43m)\u001b[49m\u001b[43m)\u001b[49m \u001b[38;5;66;03m#seleccionar digito sin seleccionar uno no cambiable\u001b[39;00m\n\u001b[1;32m      8\u001b[0m no_cambiables\u001b[38;5;241m.\u001b[39mappend(posicion)\n\u001b[1;32m     10\u001b[0m \u001b[38;5;28;01mreturn\u001b[39;00m(\n\u001b[1;32m     11\u001b[0m     a[\u001b[38;5;241m0\u001b[39m:posicion]\u001b[38;5;241m+\u001b[39mdigito_random()\u001b[38;5;241m+\u001b[39ma[posicion\u001b[38;5;241m+\u001b[39m\u001b[38;5;241m1\u001b[39m:] \u001b[38;5;28;01mif\u001b[39;00m n \u001b[38;5;241m==\u001b[39m \u001b[38;5;241m1\u001b[39m \n\u001b[1;32m     12\u001b[0m     \u001b[38;5;28;01melse\u001b[39;00m cadena_n_digitos_cambiados_random(a[\u001b[38;5;241m0\u001b[39m:posicion]\u001b[38;5;241m+\u001b[39mdigito_random()\u001b[38;5;241m+\u001b[39ma[posicion\u001b[38;5;241m+\u001b[39m\u001b[38;5;241m1\u001b[39m:], n \u001b[38;5;241m=\u001b[39m n \u001b[38;5;241m-\u001b[39m \u001b[38;5;241m1\u001b[39m, no_cambiables \u001b[38;5;241m=\u001b[39m no_cambiables)\n\u001b[1;32m     13\u001b[0m )\n",
      "File \u001b[0;32m/usr/lib/python3.10/random.py:378\u001b[0m, in \u001b[0;36mRandom.choice\u001b[0;34m(self, seq)\u001b[0m\n\u001b[1;32m    376\u001b[0m \u001b[38;5;250m\u001b[39m\u001b[38;5;124;03m\"\"\"Choose a random element from a non-empty sequence.\"\"\"\u001b[39;00m\n\u001b[1;32m    377\u001b[0m \u001b[38;5;66;03m# raises IndexError if seq is empty\u001b[39;00m\n\u001b[0;32m--> 378\u001b[0m \u001b[38;5;28;01mreturn\u001b[39;00m \u001b[43mseq\u001b[49m\u001b[43m[\u001b[49m\u001b[38;5;28;43mself\u001b[39;49m\u001b[38;5;241;43m.\u001b[39;49m\u001b[43m_randbelow\u001b[49m\u001b[43m(\u001b[49m\u001b[38;5;28;43mlen\u001b[39;49m\u001b[43m(\u001b[49m\u001b[43mseq\u001b[49m\u001b[43m)\u001b[49m\u001b[43m)\u001b[49m\u001b[43m]\u001b[49m\n",
      "\u001b[0;31mIndexError\u001b[0m: list index out of range"
     ]
    }
   ],
   "source": [
    "cadena_n_digitos_cambiados_random('11',2)"
   ]
  },
  {
   "cell_type": "code",
   "execution_count": null,
   "id": "f4720425-b14b-4f50-8cc3-45ea2f39ff2f",
   "metadata": {},
   "outputs": [],
   "source": []
  }
 ],
 "metadata": {
  "kernelspec": {
   "display_name": "Python 3 (ipykernel)",
   "language": "python",
   "name": "python3"
  },
  "language_info": {
   "codemirror_mode": {
    "name": "ipython",
    "version": 3
   },
   "file_extension": ".py",
   "mimetype": "text/x-python",
   "name": "python",
   "nbconvert_exporter": "python",
   "pygments_lexer": "ipython3",
   "version": "3.10.12"
  }
 },
 "nbformat": 4,
 "nbformat_minor": 5
}
