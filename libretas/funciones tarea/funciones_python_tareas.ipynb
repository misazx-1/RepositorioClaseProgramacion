{
 "cells": [
  {
   "cell_type": "code",
   "execution_count": 111,
   "id": "fe51560f-859c-4a91-aeb9-060ace862883",
   "metadata": {},
   "outputs": [
    {
     "data": {
      "text/plain": [
       "False"
      ]
     },
     "execution_count": 111,
     "metadata": {},
     "output_type": "execute_result"
    }
   ],
   "source": [
    "#1 Escribe un predicado que verifica si una cadena de caracteres es un dígito. La cadena vacia se toma como digito ya que facilita la siguiente funcion\n",
    "def cadena_es_digito(a):\n",
    "    return True if ((len(a) == 1 or a == '') and a in '0123456789') else False\n",
    "\n",
    "\n"
   ]
  },
  {
   "cell_type": "code",
   "execution_count": 114,
   "id": "58bc93e8-59f6-4963-b4a2-7d90cd2e6e23",
   "metadata": {},
   "outputs": [
    {
     "data": {
      "text/plain": [
       "True"
      ]
     },
     "execution_count": 114,
     "metadata": {},
     "output_type": "execute_result"
    }
   ],
   "source": [
    "#2 Escribe un predicado que verifica si una cadena de caracteres consiste únicamente de dígitos.\n",
    "\n",
    "def cadena_es_de_digitos(a):\n",
    "    return True if cadena_es_digito(a) else (cadena_es_digito(a[0]) and cadena_es_de_digitos(a[1:]))\n",
    "\n",
    "cadena_es_de_digitos('')"
   ]
  },
  {
   "cell_type": "code",
   "execution_count": 113,
   "id": "51c65650-05b5-441e-97aa-7f9a074cbeee",
   "metadata": {},
   "outputs": [],
   "source": [
    "#3. Escribe una función que genere un dígito de forma aleatoria.\n",
    "\n",
    "import random as r\n",
    "def digito_random(excepto = ''):\n",
    "    return r.choice('0123456789'.replace(excepto,''))\n",
    "\n"
   ]
  },
  {
   "cell_type": "code",
   "execution_count": 21,
   "id": "2e86eab8-0cb2-436a-bc04-391c27b34c0d",
   "metadata": {},
   "outputs": [],
   "source": [
    "#4. Escribe una función que genera una cadena con $n$ dígitos aleatorios.\n",
    "\n",
    "def cadena_digitos_random(n):\n",
    "    # t = ''\n",
    "    # for i in range(n):\n",
    "    #     t = t +str(digito_random())\n",
    "    # return t;\n",
    "    return digito_random() if n == 1 else digito_random()+cadena_digitos_random(n-1)\n",
    "    "
   ]
  },
  {
   "cell_type": "code",
   "execution_count": 22,
   "id": "7ec18952-d8f6-40d7-83ce-f1a31a99cbe8",
   "metadata": {},
   "outputs": [],
   "source": [
    "#5. Escribe una función que calcule la distancia de Hamming de dos cadenas de dígitos del mismo tamaño.\n",
    "\n",
    "def distancia_hamming(a,b):\n",
    "    # distancia = 0\n",
    "    # if len(a) == len(b):\n",
    "    #     for i in range(len(a)):\n",
    "    #         if a[i] != b[i]:\n",
    "    #             distancia = distancia +1\n",
    "    #     return distancia\n",
    "    # else:\n",
    "    #     return 0\n",
    "    assert len(a) == len(b), 'no son del mismo tamaño'\n",
    "    if len(a) == 0:\n",
    "        return 0\n",
    "    else:\n",
    "        return distancia_hamming(a[1:],b[1:]) + (a[0] == b[0])\n",
    "\n",
    "         "
   ]
  },
  {
   "cell_type": "code",
   "execution_count": 115,
   "id": "daf9b217-ac58-4e79-9f50-a9ada8135808",
   "metadata": {},
   "outputs": [],
   "source": [
    "#función auxiliar\n",
    "#dada una cadena, regresa una cadega del 0 a len(cadena) separando cada numero con una coma\n",
    "def cadena_posiciones(a, numero_iteracion = 0):    \n",
    "    return '' if len(a) == 0 else str(numero_iteracion)+ ',' +cadena_posiciones(a[1:], numero_iteracion = numero_iteracion+1 )\n",
    "    \n",
    "\n",
    "# 6 _ 9. Escribe una función que dada una cadena de $N$ dígitos, regrese una cadena igual pero con $n$ dígitos cualquiera modificados a otros de forma aleatoria, donde $n \\leq N$.\n",
    "# La hice muy rebuscada para no usar listas de forma 'directa'\n",
    "\n",
    "def cadena_digito_cambiado_random()(a,n ,posiciones_cambiables = ''):\n",
    "    assert cadena_es_de_digitos(a), 'no es de digitos'\n",
    "    assert n <= len(a), 'posiciones a cambiar debe ser menor a los que tiene la cadena'\n",
    "    \n",
    "    if posiciones_cambiables == '': #cuando comiencian los iteraciones asignamos todas las posiciones a posiciones cambiables\n",
    "        posiciones_cambiables = cadena_posiciones(a)     \n",
    "\n",
    "    if posiciones_cambiables[0] == ',': #quitamos coma inicial en case de haberla\n",
    "        posiciones_cambiables = posiciones_cambiables[1:]\n",
    "\n",
    "    if posiciones_cambiables[-1] == ',': #quitamos coma final\n",
    "        posiciones_cambiables = posiciones_cambiables[:-1]       \n",
    "    \n",
    "    posicion_a_cambiar = r.choice(posiciones_cambiables.rsplit(',')) \n",
    "    \n",
    "    cadena_con_digito_cambiado = a[0:int(posicion_a_cambiar)] + digito_random(excepto = a[int(posicion_a_cambiar)]) + a[int(posicion_a_cambiar)+1:] #cambiamos un digito\n",
    "    \n",
    "     \n",
    "    if n == 1: #si solo vamos a cambiar un digito regresamos la cadena con un digito modificiado\n",
    "        return cadena_con_digito_cambiado\n",
    "    else: #volvemos a llamar esta funcion pero en posiciones_cambiables ponemos todas las posiciones cambiables para la nueva iteracion(todas menos la que cambiamos)\n",
    "        \n",
    "        posiciones_cambiables = posiciones_cambiables.replace(posicion_a_cambiar,'').replace(',,',',')\n",
    "        \n",
    "        return cadena_digito_cambiado_random(cadena_con_digito_cambiado, n-1, posiciones_cambiables =  posiciones_cambiables)\n",
    "        \n",
    "           \n",
    "\n",
    "\n",
    "    "
   ]
  },
  {
   "cell_type": "code",
   "execution_count": 129,
   "id": "f4720425-b14b-4f50-8cc3-45ea2f39ff2f",
   "metadata": {},
   "outputs": [
    {
     "data": {
      "text/plain": [
       "'87003008'"
      ]
     },
     "execution_count": 129,
     "metadata": {},
     "output_type": "execute_result"
    }
   ],
   "source": [
    "cadena_digito_cambiado_random('00000000', 4)"
   ]
  },
  {
   "cell_type": "code",
   "execution_count": null,
   "id": "3e600335-7eb5-43c1-97b7-9422c780ba91",
   "metadata": {},
   "outputs": [],
   "source": []
  }
 ],
 "metadata": {
  "kernelspec": {
   "display_name": "Python 3 (ipykernel)",
   "language": "python",
   "name": "python3"
  },
  "language_info": {
   "codemirror_mode": {
    "name": "ipython",
    "version": 3
   },
   "file_extension": ".py",
   "mimetype": "text/x-python",
   "name": "python",
   "nbconvert_exporter": "python",
   "pygments_lexer": "ipython3",
   "version": "3.10.12"
  }
 },
 "nbformat": 4,
 "nbformat_minor": 5
}
