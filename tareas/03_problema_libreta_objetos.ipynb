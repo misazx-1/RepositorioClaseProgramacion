{
 "cells": [
  {
   "cell_type": "code",
   "execution_count": 330,
   "id": "d37ebab3-bb9c-400c-8023-e901674d9dc4",
   "metadata": {},
   "outputs": [],
   "source": [
    "import random\n",
    "import time\n",
    "import math"
   ]
  },
  {
   "cell_type": "code",
   "execution_count": 399,
   "id": "da853cf5-115f-4548-bcd8-1c008fd49ee3",
   "metadata": {},
   "outputs": [],
   "source": [
    "class Solucion:\n",
    "    def __init__(self, solucion, domain = [(0,9)] * 12):\n",
    "        self.solucion = solucion\n",
    "        self.domain = domain\n",
    "\n",
    "    def neighbors(self):\n",
    "        '''\n",
    "            regresa una lista con las soluciones que se forman al mover un vuelo uno arriba o uno abajo\n",
    "        '''\n",
    "        neighbors = []\n",
    "        s = self.solucion\n",
    "        for i in range(len(self.domain)):\n",
    "            \n",
    "            if s[i] > self.domain[i][0]:\n",
    "                neighbors.append(Solucion(s[0:i] + [s[i] - 1] + s[i+1:]))\n",
    "            if s[i] < self.domain[i][1]:\n",
    "                neighbors.append(Solucion(s[0:i] + [s[i] + 1] + s[i+1:]))\n",
    "        return neighbors\n",
    "\n",
    "    def __str__(self):\n",
    "        return str(self.solucion)\n",
    "\n",
    "    def __repr__(self):\n",
    "        return self.__str__()\n",
    "\n",
    "    def __iter__(self):\n",
    "        return self.solucion\n",
    "\n",
    "    def __len__(self):\n",
    "        return len(self.solucion)\n",
    "        \n",
    "    def __getitem__(self, indice):\n",
    "        return self.solucion[indice]\n",
    "\n"
   ]
  },
  {
   "cell_type": "code",
   "execution_count": 536,
   "id": "0d90f8a1-9dfa-40e1-b943-c4604d57917a",
   "metadata": {},
   "outputs": [],
   "source": [
    "class Flights:\n",
    "    def __init__(self, path_flights, people, destination):\n",
    "        self.destination = destination\n",
    "        self.people = people\n",
    "        self.flights = {}\n",
    "        \n",
    "        with open(path) as f:\n",
    "            for line in f:\n",
    "                origin, dest, t_depart, t_arrive, price = line.strip().split(',')\n",
    "                self.flights.setdefault((origin, dest), [])\n",
    "                self.flights[(origin, dest)].append((\n",
    "                    self.get_minutes(t_depart), \n",
    "                    self.get_minutes(t_arrive), \n",
    "                    int(price)\n",
    "                ))\n",
    "    def print_sol(self, s):\n",
    "        assert isinstance(s, Solucion), 's debe ser un objeto tipo Solucion'\n",
    "        for i in range(len(s)//2):\n",
    "            \n",
    "            dep = self.get_dep(i)\n",
    "            persona = self.people[i][0]\n",
    "            \n",
    "            hora_dep1 = self.get_flights_dep(persona)[s[i*2]][0]\n",
    "            hora_ar1 = self.get_flights_dep(persona)[s[i*2]][1]\n",
    "            costo_dep1 = self.get_flights_dep(persona)[s[i*2]][2]\n",
    "            \n",
    "            hora_dep1 = self.get_hours(hora_dep1)\n",
    "            hora_ar1 = self.get_hours(hora_ar1)\n",
    "            costo_dep1 = '$' + str(costo_dep1).ljust(7, ' ')\n",
    "\n",
    "            hora_dep2 = self.get_flights_ret(persona)[s[i*2]][0]\n",
    "            hora_ar2 = self.get_flights_ret(persona)[s[i*2]][1]\n",
    "            costo_dep2 = self.get_flights_ret(persona)[s[i*2]][2]\n",
    "            \n",
    "            hora_dep2 = self.get_hours(hora_dep2)\n",
    "            hora_ar2 = self.get_hours(hora_ar2)\n",
    "            costo_dep2 = '$' + str(costo_dep2).ljust(7, ' ')\n",
    "            \n",
    "        \n",
    "            \n",
    "            print(dep, \n",
    "                  persona.ljust(10, ' '), \n",
    "                  hora_dep1,\n",
    "                  hora_ar1,\n",
    "                  costo_dep1,\n",
    "                  hora_dep2,\n",
    "                  hora_ar2,\n",
    "                  costo_dep2)\n",
    "            \n",
    "    \n",
    "    def get_dep(self, nombre):\n",
    "        if isinstance(nombre, str):\n",
    "            for tupla in self.people:\n",
    "                if tupla[0] == nombre:\n",
    "                    return tupla[1]\n",
    "        if isinstance(nombre, int):\n",
    "            return self.people[nombre][1]\n",
    "        \n",
    "\n",
    "    def get_flights_dep(self, nombre):\n",
    "        #asserts\n",
    "        dep = self.get_dep(nombre)\n",
    "        \n",
    "        return self.flights[(dep,self.destination)]\n",
    "            \n",
    "    def get_flights_ret(self, nombre):\n",
    "        #asserts\n",
    "        dep = self.get_dep(nombre)\n",
    "        return self.flights[(self.destination, dep)]\n",
    "            \n",
    "    def random_solucion(self):\n",
    "        solucion = []\n",
    "        for tupla in self.people:\n",
    "            nombre = tupla[0]\n",
    "            solucion.append(\n",
    "                random.choice(range(len(self.get_flights_dep(nombre))))\n",
    "            )\n",
    "            solucion.append(\n",
    "                random.choice(range(len(self.get_flights_ret(nombre))))\n",
    "            )\n",
    "        return Solucion(solucion)\n",
    "\n",
    "    def get_minutes(self, t):\n",
    "        x = time.strptime(t, '%H:%M')\n",
    "        h = x.tm_hour\n",
    "        m = x.tm_min\n",
    "        return 60 * h + m\n",
    "    \n",
    "    def get_hours(self, t):\n",
    "        h = t // 60\n",
    "        m = t - h * 60 \n",
    "        h = str(h).rjust(2, '0')       \n",
    "        m = str(m).rjust(2, '0')\n",
    "        return h + ':' + m\n",
    "        \n",
    "        \n",
    "    def schedule_cost(self, solucion):\n",
    "        # contamos el precio total de cada vuelo (ida y regreso)\n",
    "        total_price = 0\n",
    "        s = solucion.solucion\n",
    "        # nos interesa conocer el tiempo de llegada a NY mas tarde\n",
    "        # y el tiempo de salida de NY mas temprano.\n",
    "        latest_arrival = 0\n",
    "        earliest_departure = 24 * 60\n",
    "        \n",
    "        for i in range(len(s) // 2):\n",
    "            origin = self.people[i][1]\n",
    "            out_flight = self.flights[(origin, self.destination)][s[2*i]]\n",
    "            ret_flight = self.flights[(self.destination, origin)][s[2*i+1]]\n",
    "            \n",
    "            total_price += out_flight[2] # vuelo de ida\n",
    "            total_price += ret_flight[2] # vuelo de regreso\n",
    "            \n",
    "            # tiempo de llegada máximo\n",
    "            # tiempo de salida mínimo\n",
    "            if latest_arrival < out_flight[1]:\n",
    "                latest_arrival = out_flight[1]\n",
    "            if earliest_departure > ret_flight[0]:\n",
    "                earliest_departure = ret_flight[0]\n",
    "        \n",
    "        # contamos el tiempo de espera de cada persona\n",
    "        total_wait = 0\n",
    "        \n",
    "        for i in range(len(s) // 2):\n",
    "            origin = self.people[i][1]\n",
    "            out_flight = self.flights[(origin, self.destination)][s[2*i]]\n",
    "            ret_flight = self.flights[(self.destination, origin)][s[2*i+1]]\n",
    "            \n",
    "            # todos esperan al último familiar en llegar\n",
    "            total_wait += latest_arrival - out_flight[1]\n",
    "            \n",
    "            # todos llegan al aeropuerto al mismo tiempo y esperan su vuelo\n",
    "            total_wait += ret_flight[0] - earliest_departure\n",
    "            \n",
    "            # si el último en llegar a NY llega después del primero en\n",
    "            # irse de NY se paga un día más de la renta del carro.\n",
    "            # el costo de la renta por un día es independiente de la\n",
    "            # solución.\n",
    "            if latest_arrival > earliest_departure:\n",
    "                total_price += 50\n",
    "        \n",
    "        # El costo total es el precio total de los vuelos y el tiempo de\n",
    "        # espera total de las personas.\n",
    "        # Buscamos soluciones con un bajo costo.\n",
    "        return total_price + total_wait\n",
    "    \n",
    "\n",
    "\n",
    "\n",
    "\n",
    "        \n",
    "    "
   ]
  },
  {
   "cell_type": "code",
   "execution_count": 537,
   "id": "a93e3907-8122-4645-953d-87a8df9f2794",
   "metadata": {},
   "outputs": [],
   "source": [
    "class Optimizador:\n",
    "    def __init__(self, fun_cost, flights):\n",
    "        self.fun_cost = fun_cost\n",
    "        self.flights = flights\n",
    "        \n",
    "    def solve_randomly(self, repeats = 1000):\n",
    "        '''\n",
    "            Devuelvela mejor solucion encontrada de manera aleatorio\n",
    "        '''\n",
    "        best_cost = float('inf')\n",
    "        best_sol = None\n",
    "        \n",
    "        for _ in range(repeats):\n",
    "            s = self.flights.random_solucion()\n",
    "            c = self.fun_cost(s)\n",
    "            if c < best_cost:\n",
    "                best_cost = c\n",
    "                best_sol = s\n",
    "        \n",
    "        return best_sol\n",
    "\n",
    "    def solve_hillclimbing(self, repeats = 1000):\n",
    "        s = self.flights.random_solucion()\n",
    "        contador = 0\n",
    "        while (True and contador <= 1000):\n",
    "            contador = contador + 1\n",
    "            neighbors = s.neighbors()\n",
    "            cost = self.fun_cost(s)\n",
    "            best_neighbor = min(neighbors, key=self.fun_cost)\n",
    "            neighbor_cost = self.fun_cost(best_neighbor)\n",
    "            \n",
    "            if cost <= neighbor_cost:\n",
    "                return s\n",
    "            \n",
    "            s = best_neighbor\n",
    "    def solve_annealing(self, Ti=10000.0, Tf=0.1, alpha=0.95):\n",
    "        cost_of = self.fun_cost\n",
    "        solution = self.flights.random_solucion()\n",
    "        cost = cost_of(solution)\n",
    "        T = Ti\n",
    "        while T > Tf:\n",
    "            neighbor = random.choice(solution.neighbors())\n",
    "            neighbor_cost = cost_of(neighbor)\n",
    "            diff = cost - neighbor_cost\n",
    "            if diff > 0 or random.random() < math.exp(diff / T):\n",
    "                solution = neighbor\n",
    "                cost = neighbor_cost\n",
    "            T = alpha*T\n",
    "        \n",
    "        return solution\n",
    "        \n",
    "\n",
    "\n",
    "    "
   ]
  },
  {
   "cell_type": "code",
   "execution_count": 538,
   "id": "00610f47-951b-4f51-b48f-61899a9abb71",
   "metadata": {},
   "outputs": [],
   "source": [
    "path = 'assets/schedule.txt'\n",
    "people = [('Seymour', 'BOS'),\n",
    "          ('Franny', 'DAL'),\n",
    "          ('Zooey', 'CAK'),\n",
    "          ('Walt', 'MIA'),\n",
    "          ('Buddy', 'ORD'),\n",
    "          ('Les', 'OMA')]\n",
    "destination = 'LGA'"
   ]
  },
  {
   "cell_type": "code",
   "execution_count": 539,
   "id": "e83fc06c-03a7-41e6-ae65-9a20ee07420a",
   "metadata": {},
   "outputs": [],
   "source": [
    "yo = Flights(path, people, destination)"
   ]
  },
  {
   "cell_type": "code",
   "execution_count": 540,
   "id": "f5313a63-15b1-477e-9525-1e2bda19fc6e",
   "metadata": {},
   "outputs": [
    {
     "data": {
      "text/plain": [
       "3348"
      ]
     },
     "execution_count": 540,
     "metadata": {},
     "output_type": "execute_result"
    }
   ],
   "source": [
    "yo.schedule_cost(Solucion([0,9]*6))"
   ]
  },
  {
   "cell_type": "code",
   "execution_count": 541,
   "id": "2bf16b07-c482-4d30-9666-37766217abe4",
   "metadata": {},
   "outputs": [],
   "source": [
    "optimizador = Optimizador(yo.schedule_cost, yo)"
   ]
  },
  {
   "cell_type": "code",
   "execution_count": 542,
   "id": "24ac0f47-146c-4a24-bbb2-80fc00697b8a",
   "metadata": {},
   "outputs": [
    {
     "data": {
      "text/plain": [
       "[7, 3, 5, 5, 6, 3, 6, 9, 6, 3, 6, 3]"
      ]
     },
     "execution_count": 542,
     "metadata": {},
     "output_type": "execute_result"
    }
   ],
   "source": [
    "optimizador.solve_annealing()"
   ]
  },
  {
   "cell_type": "code",
   "execution_count": 543,
   "id": "1bbcc51b-b843-42f9-bb45-b81bde317086",
   "metadata": {},
   "outputs": [],
   "source": [
    "s = yo.random_solucion()"
   ]
  },
  {
   "cell_type": "code",
   "execution_count": 544,
   "id": "607ba4d9-d973-4231-bd50-c42c6df114d2",
   "metadata": {},
   "outputs": [
    {
     "data": {
      "text/plain": [
       "__main__.Solucion"
      ]
     },
     "execution_count": 544,
     "metadata": {},
     "output_type": "execute_result"
    }
   ],
   "source": [
    "type(s)"
   ]
  },
  {
   "cell_type": "code",
   "execution_count": 545,
   "id": "8d5c74a0-0d91-48fe-a1ac-158a549c576b",
   "metadata": {},
   "outputs": [
    {
     "name": "stdout",
     "output_type": "stream",
     "text": [
      "BOS Seymour    09:45 11:50 $172     09:58 11:18 $130    \n",
      "DAL Franny     16:52 20:48 $448     17:14 20:59 $277    \n",
      "CAK Zooey      17:08 19:08 $262     16:33 18:15 $253    \n",
      "MIA Walt       19:53 22:21 $173     20:27 23:42 $169    \n",
      "ORD Buddy      09:42 11:32 $169     09:11 10:42 $172    \n",
      "OMA Les        06:11 08:31 $249     06:19 08:13 $239    \n"
     ]
    }
   ],
   "source": [
    "yo.print_sol(s)"
   ]
  },
  {
   "cell_type": "code",
   "execution_count": 525,
   "id": "2e944783-8218-4b04-a95e-80fddd17690f",
   "metadata": {},
   "outputs": [
    {
     "data": {
      "text/plain": [
       "'02:08'"
      ]
     },
     "execution_count": 525,
     "metadata": {},
     "output_type": "execute_result"
    }
   ],
   "source": [
    "yo.get_hours(128)"
   ]
  }
 ],
 "metadata": {
  "kernelspec": {
   "display_name": "Python 3 (ipykernel)",
   "language": "python",
   "name": "python3"
  },
  "language_info": {
   "codemirror_mode": {
    "name": "ipython",
    "version": 3
   },
   "file_extension": ".py",
   "mimetype": "text/x-python",
   "name": "python",
   "nbconvert_exporter": "python",
   "pygments_lexer": "ipython3",
   "version": "3.10.12"
  }
 },
 "nbformat": 4,
 "nbformat_minor": 5
}
