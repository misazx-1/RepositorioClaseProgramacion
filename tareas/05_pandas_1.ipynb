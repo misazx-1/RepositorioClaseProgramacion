{
 "cells": [
  {
   "cell_type": "code",
   "execution_count": 119,
   "id": "0a1e45dc-edd6-4068-9e59-56a4efbdc752",
   "metadata": {},
   "outputs": [],
   "source": [
    "import datetime\n",
    "import numpy as np\n",
    "import pandas as pd\n",
    "import  matplotlib.pyplot as plt"
   ]
  },
  {
   "cell_type": "markdown",
   "id": "847d6602-0a45-47fe-92b6-e7f8640c269e",
   "metadata": {},
   "source": [
    "## **Problema 1:** Determina qué ocurre cuando creamos un objeto `Series` a partir de un diccionario, pero adicionalmente proveemos el argumento opcional `index`. ¿De qué forma podemos utilizar esta propiedad?"
   ]
  },
  {
   "cell_type": "code",
   "execution_count": 3,
   "id": "5fad04ae-9a07-4002-9658-b29f2cf3a717",
   "metadata": {},
   "outputs": [
    {
     "data": {
      "text/plain": [
       "{0: 0, 1: 1, 4: 8, 9: 27, 16: 64, 25: 125, 36: 216, 49: 343, 64: 512, 81: 729}"
      ]
     },
     "execution_count": 3,
     "metadata": {},
     "output_type": "execute_result"
    }
   ],
   "source": [
    "#Para responder a la pregunta vemos que pasa\n",
    "#creamos valores\n",
    "valores_serie = [i**3 for i in range(10)]\n",
    "indice_serie = [i**2 for i in range(10)]\n",
    "serie_dict = dict(zip(indice_serie, valores_serie))\n",
    "serie_dict"
   ]
  },
  {
   "cell_type": "code",
   "execution_count": 20,
   "id": "01691811-92ff-4785-b09c-c95242f8572c",
   "metadata": {},
   "outputs": [
    {
     "data": {
      "text/plain": [
       "array([37, 12, 72,  9, 75,  5, 79, 64, 16,  1, 76, 71,  6, 25, 50, 20, 18,\n",
       "       84, 11, 28, 29, 14, 50, 68, 87, 87, 94, 96, 86, 13])"
      ]
     },
     "execution_count": 20,
     "metadata": {},
     "output_type": "execute_result"
    }
   ],
   "source": [
    "# luego un nuevo indice\n",
    "np.random.seed(1)\n",
    "indice_nuevo = np.random.randint(0, 101, 30)\n",
    "indice_nuevo"
   ]
  },
  {
   "cell_type": "code",
   "execution_count": 21,
   "id": "84feabd7-7095-4a36-bcdc-a24552e8e334",
   "metadata": {},
   "outputs": [
    {
     "data": {
      "text/plain": [
       "37      NaN\n",
       "12      NaN\n",
       "72      NaN\n",
       "9      27.0\n",
       "75      NaN\n",
       "5       NaN\n",
       "79      NaN\n",
       "64    512.0\n",
       "16     64.0\n",
       "1       1.0\n",
       "76      NaN\n",
       "71      NaN\n",
       "6       NaN\n",
       "25    125.0\n",
       "50      NaN\n",
       "20      NaN\n",
       "18      NaN\n",
       "84      NaN\n",
       "11      NaN\n",
       "28      NaN\n",
       "29      NaN\n",
       "14      NaN\n",
       "50      NaN\n",
       "68      NaN\n",
       "87      NaN\n",
       "87      NaN\n",
       "94      NaN\n",
       "96      NaN\n",
       "86      NaN\n",
       "13      NaN\n",
       "dtype: float64"
      ]
     },
     "execution_count": 21,
     "metadata": {},
     "output_type": "execute_result"
    }
   ],
   "source": [
    "#hacemos la prueba\n",
    "serie = pd.Series(serie_dict, index = indice_nuevo)\n",
    "serie"
   ]
  },
  {
   "cell_type": "markdown",
   "id": "7182393e-e901-42c1-bdce-5c6167b1b3f7",
   "metadata": {},
   "source": [
    "Vemos primeramente que hace un tipo de filtrado, mantiene los valores originales cuando el indice viejo esta en el nuevo y los demás los deja como NaN.\n",
    "\n",
    "¿Como podemos usarlo? \n",
    "Esta forma de llamar al constructor de Series puede ser util al trabajar con series de tiempo, si tu tienes una lista con los datetimes que te importa conservar de una serie de tiempo pues haces el proceso anterior para obtener la serie con los valores que te importaban y si hay valores que te importaban pero no estaban en la serie original se rellenan con NaN's para despues aplicar un ffill()."
   ]
  },
  {
   "cell_type": "markdown",
   "id": "f0d89325-c9e9-4b33-976e-091789a67af5",
   "metadata": {},
   "source": [
    "## **Problema 2:** Determina qué ocurre cuando creamos un objeto `Series` a partir de un valor numérico, pero adicionalmente proveemos el argumento opcional `index`. ¿De qué forma podemos utilizar esta propiedad?"
   ]
  },
  {
   "cell_type": "markdown",
   "id": "1ba2956a-94a4-4563-93ee-a0f9eb24e086",
   "metadata": {},
   "source": [
    "Primero vemos que pasa.\n",
    "Vemos abajo que se crea una serie con todos los indices indicados en cada uno de los valores asociados al indice se coloca el valor numerico."
   ]
  },
  {
   "cell_type": "code",
   "execution_count": 39,
   "id": "c926abd0-25ad-4ddb-9475-b619d22d61ec",
   "metadata": {},
   "outputs": [
    {
     "data": {
      "text/plain": [
       "7    3.141593\n",
       "1    3.141593\n",
       "dtype: float64"
      ]
     },
     "execution_count": 39,
     "metadata": {},
     "output_type": "execute_result"
    }
   ],
   "source": [
    "index = [7, 1]\n",
    "serie1 = pd.Series(np.pi, index = index)\n",
    "serie1"
   ]
  },
  {
   "cell_type": "markdown",
   "id": "b9c7a534-0389-4dd0-8630-bc9733b17dd4",
   "metadata": {},
   "source": [
    "La unica manera en la que se me ocurre que la puedo usar es si quiero sumar valores a una serie en ciertos indices (en el 7 y 1 en este caso) sin tener que correr un for.\n",
    "\n",
    "Aqui el ejemplo:"
   ]
  },
  {
   "cell_type": "code",
   "execution_count": 43,
   "id": "c9051075-9073-4039-b406-2d2894a7d343",
   "metadata": {},
   "outputs": [
    {
     "data": {
      "text/plain": [
       "0      5.000000\n",
       "1      8.141593\n",
       "2      5.000000\n",
       "3      5.000000\n",
       "4      7.000000\n",
       "5      7.000000\n",
       "6      7.000000\n",
       "7     11.141593\n",
       "8      8.000000\n",
       "9      9.000000\n",
       "10     9.000000\n",
       "11     9.000000\n",
       "dtype: float64"
      ]
     },
     "execution_count": 43,
     "metadata": {},
     "output_type": "execute_result"
    }
   ],
   "source": [
    "#A esta serie le quiero sumar pi en los indices 7 y 1\n",
    "serie2 = pd.Series([5,5,5,5,7,7,7,8,8,9,9,9])\n",
    "\n",
    "#Se lo sumamos y rellenamos los NaN (que resulta de cuanto un indice no esta en ambas series)\n",
    "#con los valores originales\n",
    "(serie1 + serie2).fillna(serie2)"
   ]
  },
  {
   "cell_type": "markdown",
   "id": "25f9df09-5dea-4754-ae4f-a1da9936116a",
   "metadata": {},
   "source": [
    "## **Problema 3:** El ejemplo anterior utiliza un concepto llamado *Structured Arrays* de NumPy. Investiga para qué pueden ser utilizados este tipo de arreglos."
   ]
  },
  {
   "cell_type": "markdown",
   "id": "530c0ee3-cdd0-4b86-982a-c23d6f85c619",
   "metadata": {},
   "source": [
    "Los Structured Arrays en NumPy son arreglos en los que cada 'columna'  puede tener diferentes tipos de datos y se accede a los elementos mediante nombres de campo. En lugar de ser homogéneos (como los arreglos regulares de NumPy), los Structured Arrays permiten almacenar datos heterogéneos en un formato tabular similar a una tabla o un DataFrame de pandas."
   ]
  },
  {
   "cell_type": "code",
   "execution_count": 45,
   "id": "2bc557df-ad72-4e7e-92bd-77ed18b05bd4",
   "metadata": {},
   "outputs": [
    {
     "data": {
      "text/plain": [
       "array([('Juan', 25, 1.75), ('María', 30, 1.6 )],\n",
       "      dtype=[('nombre', '<U10'), ('edad', '<i8'), ('altura', '<f8')])"
      ]
     },
     "execution_count": 45,
     "metadata": {},
     "output_type": "execute_result"
    }
   ],
   "source": [
    "#vemos dos ejemplos\n",
    "dtype = [('nombre', 'U10'), ('edad', int), ('altura', float)]\n",
    "A = np.array([('Juan', 25, 1.75), ('María', 30, 1.60)], dtype=dtype)\n",
    "A"
   ]
  },
  {
   "cell_type": "code",
   "execution_count": 49,
   "id": "6e92bacd-8523-4aa6-864f-508a3626bf42",
   "metadata": {},
   "outputs": [
    {
     "data": {
      "text/plain": [
       "array(['Juan', 'María'], dtype='<U20')"
      ]
     },
     "execution_count": 49,
     "metadata": {},
     "output_type": "execute_result"
    }
   ],
   "source": [
    "#vemos dos ejemplos\n",
    "dtype = [('nombre', 'U20'), ('edad', int), ('altura', float)]\n",
    "B = np.array([('Juan', 25, 1.75), ('María', 30, 1.60)], dtype=dtype)\n",
    "B['nombre']"
   ]
  },
  {
   "cell_type": "markdown",
   "id": "646ca574-c657-4f20-a0ce-4c6b36a8c093",
   "metadata": {},
   "source": [
    "La utlidad que les encontre, segun lo que investigue, es que primeramente se comporta de manera similar a los DataFrame para acceder a los datos en la tabla, pero ademas te agrega mas tipos de datos\n",
    "que los que tienen los DataFrame (un ejemplo es 'U10') y eso ayuda a poder optimizar aun mas el uso \n",
    "de recursos al hacer operaciones con las columnas.\n"
   ]
  },
  {
   "cell_type": "markdown",
   "id": "d67d1228-838c-4e25-9237-1ca3102a71bc",
   "metadata": {},
   "source": [
    "**Problema 4:** Investiga las operaciones `isnull`, `notnull`, `dropna` y `fillna` de Pandas, así como el valor `pd.NA`. Puedes apoyarte de [la documentación](https://pandas.pydata.org/docs/user_guide/missing_data.html)"
   ]
  },
  {
   "cell_type": "markdown",
   "id": "3fc3cec3-d15c-4ef0-8213-84fc967acf9a",
   "metadata": {},
   "source": [
    "## isnull\n",
    "isnull() es un metodo de series y dataframes que regresa una serie o dataframe de mismas dimenciones que el original pero todos los datos son remplazados por los valores True or False, donde True significa que el valor que estaba en esa posicion  es faltante y True no faltante.\n",
    "Además, conserva el mismo indice lo que lo hace util para filtrar el dataframe original.\n",
    "Es igual al isna()."
   ]
  },
  {
   "cell_type": "code",
   "execution_count": 61,
   "id": "606a7047-85fe-4b68-b3bc-ba7f680a7eb3",
   "metadata": {},
   "outputs": [
    {
     "data": {
      "text/plain": [
       "0    False\n",
       "1    False\n",
       "2     True\n",
       "3    False\n",
       "dtype: bool"
      ]
     },
     "execution_count": 61,
     "metadata": {},
     "output_type": "execute_result"
    }
   ],
   "source": [
    "#ejemplo de uso\n",
    "df_n = pd.DataFrame(\n",
    "    {\n",
    "        'col1':[1,1,None,None],\n",
    "        'col2':[None, None, 12.1, 14.2],\n",
    "        'col3':[np.pi, np.cos(28),None, 0]\n",
    "    }\n",
    ")\n",
    "\n",
    "\n",
    "#regresa una serie de booleans con mismos indices donde el valor indica si cumple la condicion de que el renglon tiene mas de un valor faltante\n",
    "filtro = df_n.isna().sum(axis = 1) > 1\n",
    "filtro"
   ]
  },
  {
   "cell_type": "markdown",
   "id": "8a741453-7908-4982-809b-45cc50af2a91",
   "metadata": {},
   "source": [
    "## notnull()\n",
    "Es muy similar al anterior, solo que True significa que es no nulo y False que es nulo. Es como ~df.isna()."
   ]
  },
  {
   "cell_type": "code",
   "execution_count": 68,
   "id": "fc6afabe-84ad-423b-b721-d734bd437947",
   "metadata": {},
   "outputs": [
    {
     "data": {
      "text/html": [
       "<div>\n",
       "<style scoped>\n",
       "    .dataframe tbody tr th:only-of-type {\n",
       "        vertical-align: middle;\n",
       "    }\n",
       "\n",
       "    .dataframe tbody tr th {\n",
       "        vertical-align: top;\n",
       "    }\n",
       "\n",
       "    .dataframe thead th {\n",
       "        text-align: right;\n",
       "    }\n",
       "</style>\n",
       "<table border=\"1\" class=\"dataframe\">\n",
       "  <thead>\n",
       "    <tr style=\"text-align: right;\">\n",
       "      <th></th>\n",
       "      <th>col1</th>\n",
       "      <th>col2</th>\n",
       "      <th>col3</th>\n",
       "    </tr>\n",
       "  </thead>\n",
       "  <tbody>\n",
       "    <tr>\n",
       "      <th>0</th>\n",
       "      <td>True</td>\n",
       "      <td>False</td>\n",
       "      <td>True</td>\n",
       "    </tr>\n",
       "    <tr>\n",
       "      <th>1</th>\n",
       "      <td>True</td>\n",
       "      <td>False</td>\n",
       "      <td>True</td>\n",
       "    </tr>\n",
       "    <tr>\n",
       "      <th>2</th>\n",
       "      <td>False</td>\n",
       "      <td>True</td>\n",
       "      <td>False</td>\n",
       "    </tr>\n",
       "    <tr>\n",
       "      <th>3</th>\n",
       "      <td>False</td>\n",
       "      <td>True</td>\n",
       "      <td>True</td>\n",
       "    </tr>\n",
       "  </tbody>\n",
       "</table>\n",
       "</div>"
      ],
      "text/plain": [
       "    col1   col2   col3\n",
       "0   True  False   True\n",
       "1   True  False   True\n",
       "2  False   True  False\n",
       "3  False   True   True"
      ]
     },
     "execution_count": 68,
     "metadata": {},
     "output_type": "execute_result"
    }
   ],
   "source": [
    "#Ejemplo de uso\n",
    "#tomando el df_n\n",
    "df_n.notnull()"
   ]
  },
  {
   "cell_type": "code",
   "execution_count": 69,
   "id": "82cc6d7f-0077-4135-997c-09ed0c20689f",
   "metadata": {},
   "outputs": [
    {
     "data": {
      "text/plain": [
       "0     True\n",
       "1     True\n",
       "2    False\n",
       "3     True\n",
       "dtype: bool"
      ]
     },
     "execution_count": 69,
     "metadata": {},
     "output_type": "execute_result"
    }
   ],
   "source": [
    "filtro2 = df_n.notnull().sum(axis = 1) > 1\n",
    "filtro2"
   ]
  },
  {
   "cell_type": "code",
   "execution_count": 72,
   "id": "671a2c07-4300-4a02-aa2c-ed7c82d2122e",
   "metadata": {},
   "outputs": [
    {
     "data": {
      "text/plain": [
       "True"
      ]
     },
     "execution_count": 72,
     "metadata": {},
     "output_type": "execute_result"
    }
   ],
   "source": [
    "#vemos si son iguales\n",
    "filto.equals(~filtro2)"
   ]
  },
  {
   "cell_type": "markdown",
   "id": "04cae010-7aec-4e4e-8028-b17a3dad1ebb",
   "metadata": {},
   "source": [
    "## fillna()\n",
    "Es un metodo que se usa para poner un valor en los datos faltantes con diferentes formas de hacerlo."
   ]
  },
  {
   "cell_type": "code",
   "execution_count": 74,
   "id": "46e1d673-351a-43a8-a059-4398515638e4",
   "metadata": {},
   "outputs": [
    {
     "data": {
      "text/html": [
       "<div>\n",
       "<style scoped>\n",
       "    .dataframe tbody tr th:only-of-type {\n",
       "        vertical-align: middle;\n",
       "    }\n",
       "\n",
       "    .dataframe tbody tr th {\n",
       "        vertical-align: top;\n",
       "    }\n",
       "\n",
       "    .dataframe thead th {\n",
       "        text-align: right;\n",
       "    }\n",
       "</style>\n",
       "<table border=\"1\" class=\"dataframe\">\n",
       "  <thead>\n",
       "    <tr style=\"text-align: right;\">\n",
       "      <th></th>\n",
       "      <th>col1</th>\n",
       "      <th>col2</th>\n",
       "      <th>col3</th>\n",
       "    </tr>\n",
       "  </thead>\n",
       "  <tbody>\n",
       "    <tr>\n",
       "      <th>0</th>\n",
       "      <td>1.0</td>\n",
       "      <td>13.15</td>\n",
       "      <td>3.141593</td>\n",
       "    </tr>\n",
       "    <tr>\n",
       "      <th>1</th>\n",
       "      <td>1.0</td>\n",
       "      <td>13.15</td>\n",
       "      <td>-0.962606</td>\n",
       "    </tr>\n",
       "    <tr>\n",
       "      <th>2</th>\n",
       "      <td>1.0</td>\n",
       "      <td>12.10</td>\n",
       "      <td>0.726329</td>\n",
       "    </tr>\n",
       "    <tr>\n",
       "      <th>3</th>\n",
       "      <td>1.0</td>\n",
       "      <td>14.20</td>\n",
       "      <td>0.000000</td>\n",
       "    </tr>\n",
       "  </tbody>\n",
       "</table>\n",
       "</div>"
      ],
      "text/plain": [
       "   col1   col2      col3\n",
       "0   1.0  13.15  3.141593\n",
       "1   1.0  13.15 -0.962606\n",
       "2   1.0  12.10  0.726329\n",
       "3   1.0  14.20  0.000000"
      ]
     },
     "execution_count": 74,
     "metadata": {},
     "output_type": "execute_result"
    }
   ],
   "source": [
    "#Ejemplo de uso\n",
    "#El mas usual es rellenar valores faltantes con un valor\n",
    "\n",
    "#metemos la media en cada columna de df_n\n",
    "media = df_n.mean()\n",
    "\n",
    "df_n.fillna(media, inplace = True) #en este caso le paso una seria con indice el nombre de las columnas y valor la media, que sirve para definir un mapeo de que poner en los valores faltans\n",
    "df_n"
   ]
  },
  {
   "cell_type": "code",
   "execution_count": 87,
   "id": "c77dcc13-904b-49ac-9609-bb8727cbe939",
   "metadata": {},
   "outputs": [
    {
     "data": {
      "text/html": [
       "<div>\n",
       "<style scoped>\n",
       "    .dataframe tbody tr th:only-of-type {\n",
       "        vertical-align: middle;\n",
       "    }\n",
       "\n",
       "    .dataframe tbody tr th {\n",
       "        vertical-align: top;\n",
       "    }\n",
       "\n",
       "    .dataframe thead th {\n",
       "        text-align: right;\n",
       "    }\n",
       "</style>\n",
       "<table border=\"1\" class=\"dataframe\">\n",
       "  <thead>\n",
       "    <tr style=\"text-align: right;\">\n",
       "      <th></th>\n",
       "      <th>col1</th>\n",
       "      <th>col2</th>\n",
       "    </tr>\n",
       "  </thead>\n",
       "  <tbody>\n",
       "    <tr>\n",
       "      <th>0</th>\n",
       "      <td>11.00</td>\n",
       "      <td>1.0</td>\n",
       "    </tr>\n",
       "    <tr>\n",
       "      <th>1</th>\n",
       "      <td>11.10</td>\n",
       "      <td>2.0</td>\n",
       "    </tr>\n",
       "    <tr>\n",
       "      <th>2</th>\n",
       "      <td>11.11</td>\n",
       "      <td>NaN</td>\n",
       "    </tr>\n",
       "    <tr>\n",
       "      <th>3</th>\n",
       "      <td>NaN</td>\n",
       "      <td>3.0</td>\n",
       "    </tr>\n",
       "    <tr>\n",
       "      <th>4</th>\n",
       "      <td>11.12</td>\n",
       "      <td>4.0</td>\n",
       "    </tr>\n",
       "    <tr>\n",
       "      <th>5</th>\n",
       "      <td>11.13</td>\n",
       "      <td>6.0</td>\n",
       "    </tr>\n",
       "  </tbody>\n",
       "</table>\n",
       "</div>"
      ],
      "text/plain": [
       "    col1  col2\n",
       "0  11.00   1.0\n",
       "1  11.10   2.0\n",
       "2  11.11   NaN\n",
       "3    NaN   3.0\n",
       "4  11.12   4.0\n",
       "5  11.13   6.0"
      ]
     },
     "execution_count": 87,
     "metadata": {},
     "output_type": "execute_result"
    }
   ],
   "source": [
    "#igual se pueden usar metodos mas complejos \n",
    "df_n1 = pd.DataFrame(\n",
    "    {\n",
    "        'col1':[11, 11.1, 11.11, None, 11.12, 11.13],\n",
    "        'col2':[1, 2, None, 3, 4, 6]\n",
    "    }\n",
    ")\n",
    "df_n1"
   ]
  },
  {
   "cell_type": "code",
   "execution_count": 88,
   "id": "45bcf79b-82dc-4847-8337-e64e36a2b091",
   "metadata": {},
   "outputs": [
    {
     "name": "stderr",
     "output_type": "stream",
     "text": [
      "/tmp/ipykernel_97059/2490631681.py:2: FutureWarning: Series.fillna with 'method' is deprecated and will raise in a future version. Use obj.ffill() or obj.bfill() instead.\n",
      "  df_n1.col1 = df_n1.col1.fillna(method = 'ffill')\n",
      "/tmp/ipykernel_97059/2490631681.py:3: FutureWarning: Series.fillna with 'method' is deprecated and will raise in a future version. Use obj.ffill() or obj.bfill() instead.\n",
      "  df_n1.col2 = df_n1.col2.fillna(method = 'backfill')\n"
     ]
    },
    {
     "data": {
      "text/html": [
       "<div>\n",
       "<style scoped>\n",
       "    .dataframe tbody tr th:only-of-type {\n",
       "        vertical-align: middle;\n",
       "    }\n",
       "\n",
       "    .dataframe tbody tr th {\n",
       "        vertical-align: top;\n",
       "    }\n",
       "\n",
       "    .dataframe thead th {\n",
       "        text-align: right;\n",
       "    }\n",
       "</style>\n",
       "<table border=\"1\" class=\"dataframe\">\n",
       "  <thead>\n",
       "    <tr style=\"text-align: right;\">\n",
       "      <th></th>\n",
       "      <th>col1</th>\n",
       "      <th>col2</th>\n",
       "    </tr>\n",
       "  </thead>\n",
       "  <tbody>\n",
       "    <tr>\n",
       "      <th>0</th>\n",
       "      <td>11.00</td>\n",
       "      <td>1.0</td>\n",
       "    </tr>\n",
       "    <tr>\n",
       "      <th>1</th>\n",
       "      <td>11.10</td>\n",
       "      <td>2.0</td>\n",
       "    </tr>\n",
       "    <tr>\n",
       "      <th>2</th>\n",
       "      <td>11.11</td>\n",
       "      <td>3.0</td>\n",
       "    </tr>\n",
       "    <tr>\n",
       "      <th>3</th>\n",
       "      <td>11.11</td>\n",
       "      <td>3.0</td>\n",
       "    </tr>\n",
       "    <tr>\n",
       "      <th>4</th>\n",
       "      <td>11.12</td>\n",
       "      <td>4.0</td>\n",
       "    </tr>\n",
       "    <tr>\n",
       "      <th>5</th>\n",
       "      <td>11.13</td>\n",
       "      <td>6.0</td>\n",
       "    </tr>\n",
       "  </tbody>\n",
       "</table>\n",
       "</div>"
      ],
      "text/plain": [
       "    col1  col2\n",
       "0  11.00   1.0\n",
       "1  11.10   2.0\n",
       "2  11.11   3.0\n",
       "3  11.11   3.0\n",
       "4  11.12   4.0\n",
       "5  11.13   6.0"
      ]
     },
     "execution_count": 88,
     "metadata": {},
     "output_type": "execute_result"
    }
   ],
   "source": [
    "#este lo uso mas con el asfreq pero por el momento aun se puedo usar aqui tambien\n",
    "df_n1.col1 = df_n1.col1.fillna(method = 'ffill') #rellener con ultimo dato no faltanta (relleno hacia enfrente)\n",
    "df_n1.col2 = df_n1.col2.fillna(method = 'backfill') #rellenar con siguiente valor no faltanta (relleno hacia atras)\n",
    "df_n1\n",
    "\n",
    "                               \n",
    "                               "
   ]
  },
  {
   "cell_type": "markdown",
   "id": "07b98efa-1b87-457c-8e58-ec93528ac43b",
   "metadata": {},
   "source": [
    "## pd.Na\n",
    "Es una representación específica de Pandas introducida para manejar valores nulos de manera más consistente en tipos de datos que None y np.nan.  "
   ]
  },
  {
   "cell_type": "code",
   "execution_count": 146,
   "id": "a741e3a3-ae66-4481-ab91-1605e453361a",
   "metadata": {},
   "outputs": [
    {
     "data": {
      "text/html": [
       "<div>\n",
       "<style scoped>\n",
       "    .dataframe tbody tr th:only-of-type {\n",
       "        vertical-align: middle;\n",
       "    }\n",
       "\n",
       "    .dataframe tbody tr th {\n",
       "        vertical-align: top;\n",
       "    }\n",
       "\n",
       "    .dataframe thead th {\n",
       "        text-align: right;\n",
       "    }\n",
       "</style>\n",
       "<table border=\"1\" class=\"dataframe\">\n",
       "  <thead>\n",
       "    <tr style=\"text-align: right;\">\n",
       "      <th></th>\n",
       "      <th>l1</th>\n",
       "      <th>l2</th>\n",
       "      <th>l3</th>\n",
       "    </tr>\n",
       "  </thead>\n",
       "  <tbody>\n",
       "    <tr>\n",
       "      <th>0</th>\n",
       "      <td>1.0</td>\n",
       "      <td>1</td>\n",
       "      <td>1.0</td>\n",
       "    </tr>\n",
       "    <tr>\n",
       "      <th>1</th>\n",
       "      <td>2.0</td>\n",
       "      <td>2</td>\n",
       "      <td>2.0</td>\n",
       "    </tr>\n",
       "    <tr>\n",
       "      <th>2</th>\n",
       "      <td>3.0</td>\n",
       "      <td>3</td>\n",
       "      <td>3.0</td>\n",
       "    </tr>\n",
       "    <tr>\n",
       "      <th>3</th>\n",
       "      <td>NaN</td>\n",
       "      <td>&lt;NA&gt;</td>\n",
       "      <td>&lt;NA&gt;</td>\n",
       "    </tr>\n",
       "  </tbody>\n",
       "</table>\n",
       "</div>"
      ],
      "text/plain": [
       "    l1    l2    l3\n",
       "0  1.0     1   1.0\n",
       "1  2.0     2   2.0\n",
       "2  3.0     3   3.0\n",
       "3  NaN  <NA>  <NA>"
      ]
     },
     "execution_count": 146,
     "metadata": {},
     "output_type": "execute_result"
    }
   ],
   "source": [
    "#Ejemplo de uso\n",
    "l1 = [1,2,3,None]\n",
    "l2= [1,2,3, pd.NA]\n",
    "l3 = [1.0,2.0,3.0, pd.NA]\n",
    "z = pd.DataFrame({'l1':l1,'l2':l2, 'l3':l3})\n",
    "z  #aqui vemos la columna que importamos con un None nos la cambia a flotante en lugar de entera"
   ]
  },
  {
   "cell_type": "code",
   "execution_count": 147,
   "id": "bd260ed2-9351-4c81-80bd-909d93f06f3c",
   "metadata": {},
   "outputs": [
    {
     "data": {
      "text/plain": [
       "False"
      ]
     },
     "execution_count": 147,
     "metadata": {},
     "output_type": "execute_result"
    }
   ],
   "source": [
    "z.l1.equals(z.l2)  #aqui dio False"
   ]
  },
  {
   "cell_type": "code",
   "execution_count": 148,
   "id": "4f3a03ae-04f1-444b-a8bb-6f216dc844a7",
   "metadata": {},
   "outputs": [
    {
     "data": {
      "text/plain": [
       "True"
      ]
     },
     "execution_count": 148,
     "metadata": {},
     "output_type": "execute_result"
    }
   ],
   "source": [
    "z.l2.equals(z.l3) #aqui True incluso si esa columna nos representa los mismos datos que l1, en general sirve para combatibildad con metodos"
   ]
  }
 ],
 "metadata": {
  "kernelspec": {
   "display_name": "Python 3 (ipykernel)",
   "language": "python",
   "name": "python3"
  },
  "language_info": {
   "codemirror_mode": {
    "name": "ipython",
    "version": 3
   },
   "file_extension": ".py",
   "mimetype": "text/x-python",
   "name": "python",
   "nbconvert_exporter": "python",
   "pygments_lexer": "ipython3",
   "version": "3.10.12"
  }
 },
 "nbformat": 4,
 "nbformat_minor": 5
}
