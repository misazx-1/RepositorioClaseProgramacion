{
 "cells": [
  {
   "cell_type": "code",
   "execution_count": null,
   "id": "f011a029-ed68-49d7-ba2a-853d7737a11c",
   "metadata": {},
   "outputs": [],
   "source": [
    "import random\n",
    "import gato\n",
    "\n",
    "#la variable b es para mostrar el menu\n",
    "b = True\n",
    "game = gato.Gato()\n",
    "\n",
    "while b:\n",
    "    #imprimir menu\n",
    "    print('el gato'.center(50))\n",
    "    print('\\n\\nMenu\\n')\n",
    "    print('\\n1)Jugar con maquina\\n2)Jugar contra segundo jugador\\n3)Salir\\n')\n",
    "    x = input()\n",
    "    if x == '1':\n",
    "        \n",
    "        game.restart()\n",
    "\n",
    "        #Mientras no haya ganado alguien o aun haya casillas disponibles, se repite el while\n",
    "        while game.continua(): \n",
    "            game.print_state()\n",
    "            #no hay do whiles in python asi que lo hice de la sig manera  \n",
    "            #Vamos a hacer un bucle hasta que el jugado seleccione un casilla valida \n",
    "            es_seleccion_valida = False          \n",
    "            while not es_seleccion_valida:                \n",
    "                seleccion_jugador = input('Seleccione casilla\\n')\n",
    "                es_seleccion_valida = game.es_posicion(seleccion_jugador)\n",
    "                if es_seleccion_valida:\n",
    "                    game.movimiento_jugador1(seleccion_jugador)                    \n",
    "                else:\n",
    "                    print('Casilla invalida') \n",
    "                    \n",
    "            #Si ya gano el jugador la maquina no juega\n",
    "            if not game.continua():\n",
    "                break\n",
    "                \n",
    "            #la maquina juega siempre que haya mas de una casilla disponible\n",
    "            if len(game.casillas_disponibles()) > 1:\n",
    "                seleccion_maquina = random.choice(list(game.casillas_disponibles()))              \n",
    "                game.movimiento_jugador2(seleccion_maquina) \n",
    "        #despues de terminar se imprime el estado        \n",
    "        game.print_state()\n",
    "        if game.quien_gano() == 'Jugador':\n",
    "            print(game.quien_gano() + ' Ganó' + '🎊 🎉 🎉')\n",
    "        else:\n",
    "            print(game.quien_gano() + ' Ganó')\n",
    "        \n",
    "    elif x == '2':\n",
    "        print('Aun no esta disponible esta opcion')\n",
    "    else:\n",
    "        b = False"
   ]
  },
  {
   "cell_type": "code",
   "execution_count": null,
   "id": "8cc02aaa-c24b-444f-9c76-e705c7e4f3e5",
   "metadata": {},
   "outputs": [],
   "source": []
  }
 ],
 "metadata": {
  "kernelspec": {
   "display_name": "Python 3 (ipykernel)",
   "language": "python",
   "name": "python3"
  },
  "language_info": {
   "codemirror_mode": {
    "name": "ipython",
    "version": 3
   },
   "file_extension": ".py",
   "mimetype": "text/x-python",
   "name": "python",
   "nbconvert_exporter": "python",
   "pygments_lexer": "ipython3",
   "version": "3.10.12"
  }
 },
 "nbformat": 4,
 "nbformat_minor": 5
}
